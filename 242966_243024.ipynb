{
 "cells": [
  {
   "cell_type": "markdown",
   "metadata": {},
   "source": [
    "# Cancer modeling with partial differential equations"
   ]
  },
  {
   "cell_type": "markdown",
   "metadata": {},
   "source": [
    "Cancer is a sophisticated interaction of many abnormal features and cell types, which are situated in a heterogeneous habitat of normal tissue. A neoplasm is a type of abnormal and excessive growth. The growth of a neoplasm is uncoordinated with that of the normal surrounding tissue, and persists in growing abnormally, even if the original trigger is removed. This abnormal growth usually forms a mass, which may be called a tumor. In recent years, there has been an increasing number of cancer cases. Unfortunately, tumors are such a dangerous disease that they often lead to the death of the patient. There is no single effective cure for fighting this disease: drug resistance is one of the major reasons for patients experiencing treatment failure in the area of oncology [1].  However, increasing knowledge of intertumor and intratumor heterogeneity, suggesting the existence of distinct cells in different or the same tumors, and the evolution of cancer, has contributed to a better understanding of resistance to anti-cancer therapy.\n",
    "Mathematical models that characterize the effects of anticancer drug treatment for solid tumors based on tumor size dynamics, which is typically quantified with measurements of tumor diameter and volume, represent one key class of models applied in cancer pharmacology. Many of the spatial models incancer modelling are based on partial differential equations (PDEs) that include spatial heterogeneity, orientational tissue structure, tissue stiffness and deformability.\n",
    "More and more studies on gene sequencing from tumor biopsies in various types of cancer show the dynamics of tumor evolution [2], [3]. To better characterize this process and take into account tumor heterogeneity, mathematical models have been proposed that take into account tumor evolution [4], [5], [6], [7], [8]. Such evolution models in combination with tumor growth models can be used to interpret both the change in tumor size and the progression of tumor progression during treatment, thereby ultimately rationalizing adaptive therapies for individual patients and overcoming treatment resistance. The topic of cancer development is now so extensively expanded and researched, therefore many publications related to it can be found. They especially concern brain tumors. One common application is known as a proliferation–invasion model or a reaction–diffusion model, which hypothesize that it is the net proliferation and invasion that contribute to the growth of cancer [9]. This kind of model has been used in studies where imaging observations of brain tumors were available to describe and predict tumor expansion, where the dynamics of tumor cell concentration/density is described. Also the tumor proliferation can be expressed by exponential, logistic, or Gompertz functions [9], [10]. Moreover, one can mathematically explore the expansion of imaging detectable tumor edge as a “traveling wave,” and the velocity of tumor expansion is a constant that is determined by the diffusion coefficient and growth rate constant $\\rho$ [10], [11]."
   ]
  },
  {
   "cell_type": "markdown",
   "metadata": {},
   "source": [
    "## Proliferation–invasion model. Cancer without any treatment."
   ]
  },
  {
   "cell_type": "markdown",
   "metadata": {},
   "source": [
    "Let's look at the case of a patient suffering from the most aggressive brain tumor - glioblastoma, which, unfortunately, has not been detected soon enough and has not been treated. Gliomas are always fatal with a median life expectancy of 9–12 months from detection [12]. It is now known that cancer cell diffusion, mainly ignored up to some time, is a major component of glioma growth. In this case The mathematical model which encompasses the two key elements in the growth of tumours, namely the invasive diffusive properties of the cancer cells and their growth rate, is given by the classical conservation–diffusion equation:"
   ]
  },
  {
   "cell_type": "markdown",
   "metadata": {},
   "source": [
    "\\begin{equation*}\n",
    "\\frac{\\partial c}{\\partial t} = \\nabla \\cdot D(x)\\nabla c + \\rho c,\n",
    "\\label{dc} \\tag{1}\n",
    "\\end{equation*}"
   ]
  },
  {
   "cell_type": "markdown",
   "metadata": {},
   "source": [
    "where $c(x, t)$ defines the concentration of malignant cells at location $x$ and time $t$, $D~(mm^2\\,day^{−1})$ is the random motility (dispersal) coefficient defining the net rate of migration of the tumour cells, $\\rho$ (per day) represents the net proliferation rate of the tumour cells (including mitosis and cell loss) and $\\nabla$ represents the dispersal operator, the Laplacian, expressed mathematically as the sum of three second derivatives in space.\n",
    "\n",
    "The solutions of the model equation provide life expectancy estimates for individual patientsand, crucially in the event of a scientific clinical study, estimates of how long the tumour has been growing before it is detected. The procedure is to estimate the parameter values for each patient to obtain the average diffusion coefficient and the average growth rate. Imaging of the tumour is used to calculate its volume from which the volume of an equivalent sphere: $\\frac{4}{3}\\pi r^3$, where $r$ is a radius. For an equivalent radially symmetric tumor with a constant diffusion coefficient, the growth equation takes the form:\n"
   ]
  },
  {
   "cell_type": "markdown",
   "metadata": {},
   "source": [
    "\\begin{equation*}\n",
    "\\frac{\\partial c}{\\partial t}=D\\left[\\frac{\\partial^{2}c}{\\partial r^{2}}+\\frac{2}{r}\\frac{\\partial c}{\\partial r}\\right] + \\rho c.\n",
    "\\label{dc2} \\tag{2}\n",
    "\\end{equation*}\n"
   ]
  },
  {
   "cell_type": "markdown",
   "metadata": {},
   "source": [
    "Solution of this equation is given by"
   ]
  },
  {
   "cell_type": "markdown",
   "metadata": {},
   "source": [
    "\\begin{equation*}\n",
    "c(r,t)=\\frac{N\\ exp(\\rho t-r^{2}/4Dt)}{8(\\pi Dt)^{\\frac{3}{2}}},\n",
    "\\label{c} \\tag{3}\n",
    "\\end{equation*}"
   ]
  },
  {
   "cell_type": "markdown",
   "metadata": {},
   "source": [
    "where $N$ is a concentrated number of cancer cells ($\\frac{\\text{cells}}{mm^3})$ at time $t=0$ (with $r=0$).\n",
    "\n",
    "Then, the radius of the tumour for some cell density is\n"
   ]
  },
  {
   "cell_type": "markdown",
   "metadata": {},
   "source": [
    "\\begin{equation*}\n",
    "r=2t\\sqrt{D\\rho}\\sqrt{1-\\frac{1}{\\rho t}\\log \\left(\\frac{c_1}{N}(4\\pi Dt)^{\\frac{3}{2}}\\right)},\n",
    "\\label{r} \\tag{4}\n",
    "\\end{equation*}"
   ]
  },
  {
   "cell_type": "markdown",
   "metadata": {},
   "source": [
    "where $c_1\\  [\\frac{\\text{cells}}{mm^3}]$ is the smallest level of image detection.\n",
    "\n",
    "For large time, the above solution gives the approximate radius of the detectable tumour and the velocity of growth:"
   ]
  },
  {
   "cell_type": "markdown",
   "metadata": {},
   "source": [
    "\\begin{equation*}\n",
    "r=2t\\sqrt{D \\rho} \\to v=rt=2\\sqrt{D \\rho}.\n",
    "\\label{r} \\tag{5}\n",
    "\\end{equation*}"
   ]
  },
  {
   "cell_type": "markdown",
   "metadata": {},
   "source": [
    "That means that the equivalent radial growth is linear in time, a finding medically confirmed. For example, if we consider detection is when the spherical equivalent tumour volume is of $r=15$ mm and that death occurs when the $r= 30$ mm, the approximate survival time from detection, in the absence of any treatments, is given by:"
   ]
  },
  {
   "cell_type": "markdown",
   "metadata": {},
   "source": [
    "$$t_s=t_{r=30}-t_{r=15}=\\frac{7.5}{D \\rho}.$$"
   ]
  },
  {
   "cell_type": "markdown",
   "metadata": {},
   "source": [
    "Most of the growth rate values, $\\rho$, and the $D$ are in the range respectively $\\frac{0.1-5}{\\text{month}}$ and $\\frac{0.1-8\\ \\text{mm}^{2}}{\\text{month}}.$\n",
    "\n",
    "What is important, survival time depends on where the tumour is mainly situated. If it is primarily in the grey area of the thalamus, for example, the diffusion is smaller and so the survival time is longer.\n",
    "Research shows that the  ranges  of  parameter values  for  nine  patients with  glioblastomas were $D= \\frac{0.55-4.23\\ \\text{mm}^{2}}{\\text{month}}$  and $\\rho =\\frac{0.3-4.19}{\\text{month}}$: the medians are $D=0.9\\frac{\\text{mm}^{2}}{\\text{month}}$ and $\\rho = \\frac{1.16}{\\text{month}}$. These give a median survival time without any treatment for 7.34 months [13]. "
   ]
  },
  {
   "cell_type": "markdown",
   "metadata": {},
   "source": [
    "### Consistency proof"
   ]
  },
  {
   "cell_type": "markdown",
   "metadata": {},
   "source": [
    "Since, we chose finite difference method, we have to prove its consistency. Let's start from our equation"
   ]
  },
  {
   "cell_type": "markdown",
   "metadata": {},
   "source": [
    "\\begin{equation*}\n",
    "\\frac{\\partial c}{\\partial t}=D\\frac{\\partial^{2}c}{\\partial r^{2}}+\\frac{2D}{r}\\frac{\\partial c}{\\partial r} + \\rho c.\n",
    "\\label {cons} \\tag{6}\n",
    "\\end{equation*}"
   ]
  },
  {
   "cell_type": "markdown",
   "metadata": {},
   "source": [
    "For simplicity, let $K = \\frac{2D}{r}$. Using finite difference approximation, we obtain:"
   ]
  },
  {
   "cell_type": "markdown",
   "metadata": {},
   "source": [
    "\\begin{equation*}\n",
    "\\frac{c_{j}^{n+1}-c_{j}^{n}}{\\Delta t}= D\\frac{c_{j+1}^n - 2c_j^n + c_{j-1}^n}{\\Delta r^2} + K\\frac{c_{j+1}^{n}-c_{j-1}^{n}}{2\\Delta r} + \\rho c.\n",
    "\\label{app} \\tag{7}\n",
    "\\end{equation*}"
   ]
  },
  {
   "cell_type": "markdown",
   "metadata": {},
   "source": [
    "Substituting Taylor expansion"
   ]
  },
  {
   "cell_type": "markdown",
   "metadata": {},
   "source": [
    "\\begin{equation*}\n",
    "\\frac{c_{j}^{n+1}-c_{j}^{n}}{\\Delta t}= \\frac{\\partial c(t)}{\\partial t} + \\frac{\\partial^2 c(t)}{\\partial t^2}\\frac{\\Delta t}{2}+\\ldots\n",
    "\\end{equation*}\n",
    "\n",
    "\\begin{equation*}\n",
    "\\frac{c_{j+1}^{n}-c_{j-1}^{n}}{2\\Delta r}= \\frac{\\partial c(r)}{\\partial r} + \\frac{\\partial^3 c(r)}{\\partial r^3}\\frac{\\Delta r^2}{6}+\\ldots\n",
    "\\end{equation*}\n",
    "\n",
    "\\begin{equation*}\n",
    "\\frac{c_{j+1}^{n}-2c_{j}^{n}+c_{i-1}^n}{2\\Delta r^2}= \\frac{\\partial^2 c(r)}{\\partial r^2} + \\frac{\\partial^4 c(r)}{\\partial r^4}\\frac{\\Delta r^2}{12}+\\ldots\n",
    "\\end{equation*}\n"
   ]
  },
  {
   "cell_type": "markdown",
   "metadata": {},
   "source": [
    "into the finite difference equation (7), we obtain:"
   ]
  },
  {
   "cell_type": "markdown",
   "metadata": {},
   "source": [
    "\\begin{equation*}\n",
    "\\frac{\\partial c(t)}{\\partial t} + \\frac{\\partial^2 c(t)}{\\partial t^2}\\frac{\\Delta t}{2} + \\ldots= D\\frac{\\partial^2 c(r)}{\\partial r^2} + D\\frac{\\partial^4 c(r)}{\\partial r^4}\\frac{\\Delta r^2}{12} + K\\frac{\\partial c(r)}{\\partial r} + K\\frac{\\partial^3 c(r)}{\\partial r^3}\\frac{\\Delta r^2}{6} + \\rho c +\\ldots\n",
    "\\label{p} \\tag{8}\n",
    "\\end{equation*}"
   ]
  },
  {
   "cell_type": "markdown",
   "metadata": {},
   "source": [
    "A result is"
   ]
  },
  {
   "cell_type": "markdown",
   "metadata": {},
   "source": [
    "\\begin{equation*}\n",
    "\\frac{\\partial c(t)}{\\partial t} -D\\frac{\\partial^2 c(r)}{\\partial r^2} - K\\frac{\\partial c(r)}{\\partial r} - \\rho c = -\\frac{\\partial^2 c(t)}{\\partial t^2}\\frac{\\Delta t}{2} + D\\frac{\\partial^4 c(r)}{\\partial r^4}\\frac{\\Delta r^2}{12} + K\\frac{\\partial^3 c(r)}{\\partial r^3}\\frac{\\Delta r^2}{6} + \\ldots,\n",
    "\\label{final} \\tag{9}\n",
    "\\end{equation*}"
   ]
  },
  {
   "cell_type": "markdown",
   "metadata": {},
   "source": [
    "where left hand site of (9) is an original equation (6) and right hand site presents error terms."
   ]
  },
  {
   "cell_type": "markdown",
   "metadata": {},
   "source": [
    "\\begin{equation*}\n",
    "\\frac{\\partial c(t)}{\\partial t} -D\\frac{\\partial^2 c(r)}{\\partial r^2} - K\\frac{\\partial c(r)}{\\partial r} - \\rho c = O(\\Delta t, \\Delta r^2) \n",
    "\\label{blad} \\tag{10}\n",
    "\\end{equation*}"
   ]
  },
  {
   "cell_type": "markdown",
   "metadata": {},
   "source": [
    "In this case, the error goes to zero as $\\Delta r \\to 0$ and $\\Delta t\\to 0$, so the approximation is said to be **consistent**."
   ]
  },
  {
   "cell_type": "code",
   "execution_count": 1,
   "metadata": {},
   "outputs": [],
   "source": [
    "import os\n",
    "import plotly.express as px\n",
    "import plotly.graph_objects as go\n",
    "import pandas as pd\n",
    "import numpy as np\n",
    "import matplotlib.pyplot as plt"
   ]
  },
  {
   "cell_type": "markdown",
   "metadata": {},
   "source": [
    "In our project, to solve the equations numerically, we will use a Python package called py-pde. The method, which will be used is called a finite difference method."
   ]
  },
  {
   "cell_type": "code",
   "execution_count": 2,
   "metadata": {},
   "outputs": [],
   "source": [
    "from IPython.display import Image, IFrame\n",
    "from pde import CartesianGrid, MemoryStorage, PDEBase, ScalarField, plot_kymograph, PlotTracker, FieldCollection, UnitGrid\n",
    "from scipy import optimize\n",
    "from sklearn.linear_model import LinearRegression"
   ]
  },
  {
   "cell_type": "code",
   "execution_count": null,
   "metadata": {},
   "outputs": [],
   "source": [
    "class NoTreatmentModel(PDEBase):\n",
    "    \n",
    "    def __init__(self, D, rho, bc=\"natural\"):\n",
    "        self.D = D\n",
    "        self.rho = rho\n",
    "        self.bc = bc\n",
    "        \n",
    "    def evolution_rate(self, state, t=0):\n",
    "        c = state\n",
    "        dc_dt = self.D * c.laplace(self.bc) + self.rho*c\n",
    "        return dc_dt\n",
    "    \n",
    "def compute_radius(idx_array, dim_, bound_default=200):\n",
    "    radius = (bound_default/dim_)*((max(idx_array) - min(idx_array)) / 2)\n",
    "    return radius\n",
    "\n",
    "def create_dir_if_not_exists(dirname):\n",
    "    if not os.path.exists(dirname):\n",
    "        os.makedirs(dirname)"
   ]
  },
  {
   "cell_type": "code",
   "execution_count": null,
   "metadata": {},
   "outputs": [],
   "source": [
    "D = 0.9  # we use the median D and rho from (13)\n",
    "RHO = 1.16\n",
    "c_1 = 80  # smallest level of detection\n",
    "N = 8000\n",
    "T_MAX = 30"
   ]
  },
  {
   "cell_type": "code",
   "execution_count": null,
   "metadata": {},
   "outputs": [],
   "source": [
    "eq = NoTreatmentModel(D=D, rho=RHO)"
   ]
  },
  {
   "cell_type": "markdown",
   "metadata": {},
   "source": [
    "Let's take a closer look at an untreated patient. In order to perform the simulation, we need several assumptions:\n",
    "\n",
    "- we consider a tissue, which is a cube of size: $20\\,\\text{cm} \\times 20\\,\\text{cm} \\times 20\\,\\text{cm}$,\n",
    "- for simulations we use a 3 dimensional Cartesian grid - each dimension having a size of 200, which means that every cell has a size of $1\\,\\text{mm} \\times 1\\,\\text{mm} \\times 1\\,\\text{mm}$ and a volume of $1\\,\\text{mm}^3$,\n",
    "- the death occurs when brain tumor reaches radius ($r$) of $30\\,\\text{mm}$,\n",
    "- the detected neoplasm has a radius of $r = 1.5$ mm (initial value of $r$)."
   ]
  },
  {
   "cell_type": "code",
   "execution_count": null,
   "metadata": {},
   "outputs": [],
   "source": [
    "bound = 200\n",
    "grid = UnitGrid([bound, bound, bound])\n",
    "c = ScalarField(grid, 0)\n",
    "c.data[bound//2-2:bound//2+2, bound//2-2:bound//2+2, bound//2-2:bound//2+2] = N"
   ]
  },
  {
   "cell_type": "code",
   "execution_count": null,
   "metadata": {
    "scrolled": true
   },
   "outputs": [],
   "source": [
    "storage = MemoryStorage()\n",
    "sol = eq.solve(c, t_range=T_MAX, dt=0.1, tracker=[\"progress\", storage.tracker(1)])"
   ]
  },
  {
   "cell_type": "code",
   "execution_count": null,
   "metadata": {
    "scrolled": false
   },
   "outputs": [],
   "source": [
    "for dir_ in ['figs',\n",
    "             os.path.join('figs', 'pngs'),\n",
    "             os.path.join('figs', 'pngs', 'no_treatment'),\n",
    "             os.path.join('figs', 'pngs', 'radiation'),\n",
    "             os.path.join('figs', 'gifs')]:\n",
    "    create_dir_if_not_exists(dir_)\n",
    "    \n",
    "radius_dict = {}\n",
    "len_data = len(storage.data)\n",
    "multip = round(np.ceil((T_MAX+1) / len(storage.data)))\n",
    "\n",
    "for i, el in enumerate(storage.data): # range(0, T_MAX+1, 4):\n",
    "    if i == 0:\n",
    "        ars = np.asarray((storage.data[i] >= c_1)).nonzero()\n",
    "    else:\n",
    "        ars = np.asarray((storage.data[i] >= c_1) & (storage.data[i] <= 10*c_1)).nonzero()\n",
    "\n",
    "    current_radius = compute_radius(ars[0], bound)\n",
    "    radius_dict[multip*i+2] = current_radius\n",
    "    fig = px.scatter_3d(x=ars[0], y=ars[1], z=ars[2], range_x=[0, bound], range_y=[0, bound], range_z=[0, bound],\n",
    "                       title=f'Tumor at time: {multip*i+2} [months], radius: {current_radius} [mm]')\n",
    "    fig.write_image(os.path.join('figs', 'pngs', 'no_treatment', f'tumor_{multip*i+1}.png'))"
   ]
  },
  {
   "cell_type": "code",
   "execution_count": null,
   "metadata": {},
   "outputs": [],
   "source": [
    "df = pd.Series(radius_dict).reset_index()\n",
    "df.columns = ['time', 'radius']"
   ]
  },
  {
   "cell_type": "markdown",
   "metadata": {},
   "source": [
    "Using the formula (4), one can implement the theoretical increase in tumor radius: "
   ]
  },
  {
   "cell_type": "code",
   "execution_count": null,
   "metadata": {},
   "outputs": [],
   "source": [
    "t = np.arange(1, T_MAX, multip)\n",
    "theoretical = 2*t*np.sqrt(RHO*D)*np.sqrt(1-(1/(RHO*t))*np.log((c_1/N)*(4*np.pi*D*t)**1.5))"
   ]
  },
  {
   "cell_type": "code",
   "execution_count": null,
   "metadata": {},
   "outputs": [],
   "source": [
    "def f(t, D, RHO, c_1, N):\n",
    "    return 2*t*np.sqrt(D*RHO)*np.sqrt(1-(1/(RHO*t))*np.log((c_1/N)*(4*np.pi*D*t)**1.5)) - 30\n",
    "\n",
    "sol = optimize.root_scalar(f, args=(D, RHO, c_1, N), bracket=[14, 18], method='brentq')\n",
    "time_of_death = sol.root\n",
    "print(f'Time of death [months]: {time_of_death}')"
   ]
  },
  {
   "cell_type": "markdown",
   "metadata": {},
   "source": [
    "Now, we see that if a patient is found to have a tumor with a radius of 1.5 mm and no treatment is given, he will most likely die in a year and $4$ months.\n",
    "The plot below represents comparison of tumor growth by theoretical and simulation methods. Red dotted line represents value of radius at which death occures and red dot shows time of death. We can see that the visualization of the tumor radius growth simulation is close to theoretical (linear function)."
   ]
  },
  {
   "cell_type": "code",
   "execution_count": null,
   "metadata": {
    "scrolled": false
   },
   "outputs": [],
   "source": [
    "plt.figure(figsize=(12,8))\n",
    "plt.plot(df['time'].to_list(), df['radius'].to_list(), label='Simulation') #df['time'].to_list()\n",
    "plt.plot(t, theoretical, label=r'Theoretical: $2t\\sqrt{D\\rho}\\sqrt{1-\\frac{1}{\\rho t}\\log\\left(\\frac{c_1}{N} (4\\pi Dt)^{1.5}\\right)}$')\n",
    "plt.scatter(time_of_death, 30, s=100, c='red', label=f'Time of death = {round(time_of_death, 2)}')\n",
    "plt.hlines(30, 0, 30, colors='red', linestyles='--', label='Radius at which death occurs')\n",
    "plt.legend(fontsize=14)\n",
    "plt.title('Tumor growth without any treatment', fontdict={'size': 22})\n",
    "plt.xlabel('Time [months]', fontdict={'size': 16})\n",
    "plt.ylabel(r'Radius [$mm$]', fontdict={'size': 16})\n",
    "plt.tick_params(axis='both', which='major', labelsize=14)\n",
    "plt.savefig(os.path.join('figs', 'pngs', 'no_treatment_growth.png'))\n",
    "plt.show()"
   ]
  },
  {
   "cell_type": "code",
   "execution_count": 8,
   "metadata": {},
   "outputs": [
    {
     "data": {
      "text/html": [
       "<img src=\"figs/pngs/no_treatment_growth.png\"/>"
      ],
      "text/plain": [
       "<IPython.core.display.Image object>"
      ]
     },
     "execution_count": 8,
     "metadata": {},
     "output_type": "execute_result"
    }
   ],
   "source": [
    "Image(url=os.path.join('figs', 'pngs', 'no_treatment_growth.png')) "
   ]
  },
  {
   "cell_type": "markdown",
   "metadata": {},
   "source": [
    "**Warning:** This line might work only on Linux OS (gif creation)"
   ]
  },
  {
   "cell_type": "code",
   "execution_count": null,
   "metadata": {},
   "outputs": [],
   "source": [
    "!convert -delay 25 -loop 0 `ls -v figs/pngs/no_treatment/*.png` figs/gifs/no-treatment.gif"
   ]
  },
  {
   "cell_type": "code",
   "execution_count": 3,
   "metadata": {},
   "outputs": [
    {
     "data": {
      "text/html": [
       "<img src=\"figs/gifs/no-treatment.gif\"/>"
      ],
      "text/plain": [
       "<IPython.core.display.Image object>"
      ]
     },
     "execution_count": 3,
     "metadata": {},
     "output_type": "execute_result"
    }
   ],
   "source": [
    "Image(url=os.path.join('figs', 'gifs', 'no-treatment.gif'))  "
   ]
  },
  {
   "cell_type": "markdown",
   "metadata": {},
   "source": [
    "The above 3-D simulation shows how our patient's brain tumor grows each month for 31 months since its detection. The radius of the tumor is given for each step. However, an important element is to consider the occurrence of death in assumption that tumor reaches the radius of $30$ mm."
   ]
  },
  {
   "cell_type": "markdown",
   "metadata": {},
   "source": [
    "### Computation of convergence\n",
    "\n",
    "Theoretical value of radius in time is: $r=2t\\sqrt{D\\rho}\\sqrt{1-\\frac{1}{\\rho t}\\log\\left(\\frac{c_1}{N} (4\\pi Dt)^{1.5}\\right)}$.\n",
    "\n",
    "\n",
    "Let's check the convergence of finite difference method by comparing MAE of theoretical and simulation values of radius in regards to grid spacing $\\Delta x$. We will consider values of time delta from range $[0.1, 0.5][month]$ per month.\n",
    "\n",
    "As our simulations were carried out on a 3 dimensional grid, the computational complexity of computations was big. In order to be able to complete all of the computations, we had to limit grid density. We've set minimal grid spacing to $1 [mm]$ as we couldn't complete the computations for lower values of $\\Delta x$. Thus, we considered grid spacing values from the following range: $\\Delta x \\in \\{1, 2, 2.5, 4\\} [mm]$.\n",
    "\n",
    "To find the order of convergence of the considered method, we will check the slope coefficient of linear regression fitted to the MAE errors and grid spacings ($\\Delta x$) on a log-log scale."
   ]
  },
  {
   "cell_type": "code",
   "execution_count": null,
   "metadata": {},
   "outputs": [],
   "source": [
    "def compute_radius_for_deltat_range(time, bound_range, t_max):\n",
    "    \n",
    "    # Initialize grid\n",
    "    \n",
    "    df_out = pd.DataFrame([])\n",
    "    for bound in bound_range:\n",
    "        grid = UnitGrid([bound, bound, bound])\n",
    "        bound_diff = int(2**(np.log2(bound/200) + 2))\n",
    "        c = ScalarField(grid, 0)\n",
    "        c.data[bound//2-bound_diff:bound//2+(bound_diff+1), bound//2-bound_diff:bound//2+(bound_diff+1), bound//2-bound_diff:bound//2+(bound_diff+1)] = N\n",
    "        storage = MemoryStorage()\n",
    "        \n",
    "        # Solve equation, check radius for each timestep\n",
    "        sol = eq.solve(c, t_range=t_max, dt=time, tracker=[\"progress\", storage.tracker(1)])\n",
    "    \n",
    "        radius_dict = {}\n",
    "        len_data = len(storage.data)\n",
    "        multip = round(np.ceil((t_max+1) / len(storage.data)))\n",
    "        for i, el in enumerate(storage.data):\n",
    "            if i == 0:\n",
    "                ars = np.asarray((storage.data[i] >= c_1)).nonzero()\n",
    "            else:\n",
    "                ars = np.asarray((storage.data[i] >= c_1)).nonzero()\n",
    "            current_radius = compute_radius(ars[0], bound)\n",
    "            radius_dict[multip*i+2] = current_radius\n",
    "        df = pd.Series(radius_dict).reset_index()\n",
    "        df.columns = ['time', 'radius']\n",
    "        df['delta_x'] = 200/bound\n",
    "        df_out = df_out.append(df).reset_index(drop=True)\n",
    "    return df_out        \n",
    "\n",
    "def run_convergence_check_process(time, bound_range, time_max):\n",
    "    \n",
    "    # Compute radius for timesteps and different deltas\n",
    "    df_out = pd.DataFrame([])\n",
    "    df_res = compute_radius_for_deltat_range(time, bound_range, time_max)\n",
    "    \n",
    "    # Compute MAE\n",
    "    df_out = df_out.append(df_res).reset_index(drop=True)\n",
    "    df_out = df_out.reset_index(drop=True)\n",
    "    df_out['radius_theoretical'] = 2*df_out['time']*np.sqrt(RHO*D)*np.sqrt(1-(1/(RHO*df_out['time']))*np.log((c_1/N)*(4*np.pi*D*df_out['time'])**1.5))\n",
    "    df_out['AbsError'] = np.abs(df_out['radius'] - df_out['radius_theoretical'])\n",
    "    df_mae = df_out.groupby(['delta_x']).agg({'AbsError':['mean']}).reset_index()\n",
    "    df_mae.columns = ['delta_x', 'AbsError']\n",
    "    \n",
    "    # Fit Linear Regression\n",
    "    df_mae['log_delta_x'] = np.log(df_mae['delta_x'])\n",
    "    df_mae['log_AbsError'] = np.log(df_mae['AbsError'])\n",
    "    X = df_mae['log_delta_x'].to_numpy().reshape(-1, 1)\n",
    "    y = df_mae['log_AbsError']\n",
    "    model = LinearRegression()\n",
    "    model.fit(X, y)\n",
    "    return df_mae, model\n",
    "    "
   ]
  },
  {
   "cell_type": "code",
   "execution_count": null,
   "metadata": {
    "scrolled": true
   },
   "outputs": [],
   "source": [
    "BOUNDS = [50, 80, 100, 200]\n",
    "SIM_TMAX = 30\n",
    "T_DELTA = 0.25\n",
    "df_mae, model = run_convergence_check_process(T_DELTA, BOUNDS, SIM_TMAX)"
   ]
  },
  {
   "cell_type": "code",
   "execution_count": null,
   "metadata": {},
   "outputs": [],
   "source": [
    "df_mae"
   ]
  },
  {
   "cell_type": "code",
   "execution_count": null,
   "metadata": {},
   "outputs": [],
   "source": [
    "# read MAE dataframe if not running simulations\n",
    "# df_mae = pd.read_csv(\"df_mae_convergence.csv\")"
   ]
  },
  {
   "cell_type": "code",
   "execution_count": null,
   "metadata": {},
   "outputs": [],
   "source": [
    "# save MAE dataframe if running simulations\n",
    "# df_mae.to_csv('df_mae_convergence.csv', index=False)"
   ]
  },
  {
   "cell_type": "code",
   "execution_count": null,
   "metadata": {},
   "outputs": [],
   "source": [
    "print(f\"Order of finite difference method: {model.coef_[0]}.\")"
   ]
  },
  {
   "cell_type": "code",
   "execution_count": null,
   "metadata": {},
   "outputs": [],
   "source": [
    "fig = px.scatter(df_mae, x='log_delta_x', y='log_AbsError', trendline='ols', range_y=[0, 5],\n",
    "                title='Log Mean Absolute Error vs Log delta x')\n",
    "fig.update_layout(yaxis_title='Log Mean Absolute Error',\n",
    "                 xaxis_title='Log delta x')\n",
    "fig.write_html(os.path.join('figs', 'pngs', 'convergence.html'))"
   ]
  },
  {
   "cell_type": "code",
   "execution_count": 4,
   "metadata": {},
   "outputs": [
    {
     "data": {
      "text/html": [
       "\n",
       "        <iframe\n",
       "            width=\"800\"\n",
       "            height=\"600\"\n",
       "            src=\"figs/pngs/convergence.html\"\n",
       "            frameborder=\"0\"\n",
       "            allowfullscreen\n",
       "        ></iframe>\n",
       "        "
      ],
      "text/plain": [
       "<IPython.lib.display.IFrame at 0x7f380476a460>"
      ]
     },
     "execution_count": 4,
     "metadata": {},
     "output_type": "execute_result"
    }
   ],
   "source": [
    "IFrame(src=os.path.join('figs', 'pngs', 'convergence.html'), width=800, height=600)"
   ]
  },
  {
   "cell_type": "markdown",
   "metadata": {},
   "source": [
    "Simulation order of convergence is around 2."
   ]
  },
  {
   "cell_type": "markdown",
   "metadata": {},
   "source": [
    "### Computation of stability\n",
    "\n",
    "We will check the stability of finite difference method for the equation of cancer without any treatment by numerical simulations for different values of time delta and grid spacing.\n",
    "\n",
    "Let's consider following values of time delta: $\\Delta t \\in \\{0.05, 0.1, 0.2, 0.25 \\}[months]$ and grid spacing: $\\Delta x \\in \\{1, 2, 4\\}[mm]$.\n",
    "\n",
    "For each pair of time delta and grid spacing, we will compute the MAE between theoretical and simulation size of tumor radius. Then we will explore the results on a 3-d scatter plot and check whether the method is stable."
   ]
  },
  {
   "cell_type": "code",
   "execution_count": null,
   "metadata": {},
   "outputs": [],
   "source": [
    "BOUNDS = [50, 100, 200]  # used for defining different values of grid spacing\n",
    "TIME_DELTAS = [0.05, 0.1, 0.2, 0.25]\n",
    "TIME_MAX = 30\n",
    "\n",
    "def run_stability_check_process(bounds_range, time_deltas_range, time_max):\n",
    "    df_out = pd.DataFrame([])\n",
    "    for bound_ in bounds_range:\n",
    "        df_res = compute_radius_for_deltat_range(bound_, time_deltas_range, time_max)\n",
    "        df_res['delta_x'] = 200/bound_\n",
    "        df_out = df_out.append(df_res).reset_index(drop=True)\n",
    "        df_out = df_out.reset_index(drop=True)\n",
    "    df_out['radius_theoretical'] = 2*df_out['time']*np.sqrt(RHO*D)*np.sqrt(1-(1/(RHO*df_out['time']))*np.log((c_1/N)*(4*np.pi*D*df_out['time'])**1.5))\n",
    "    df_out['AbsError'] = np.abs(df_out['radius'] - df_out['radius_theoretical'])\n",
    "    df_mae = df_out.groupby(['time_delta', 'delta_x']).agg({'AbsError':['mean']}).reset_index()\n",
    "    df_mae.columns = ['time_delta', 'delta_x', 'AbsError']\n",
    "    return df_mae"
   ]
  },
  {
   "cell_type": "code",
   "execution_count": null,
   "metadata": {
    "scrolled": true
   },
   "outputs": [],
   "source": [
    "df_mae_stability = run_stability_check_process(BOUNDS, TIME_DELTAS, TIME_MAX)"
   ]
  },
  {
   "cell_type": "code",
   "execution_count": null,
   "metadata": {},
   "outputs": [],
   "source": [
    "# read MAE dataframe if not running simulations\n",
    "# df_mae = pd.read_csv(\"df_mae_stability.csv\")"
   ]
  },
  {
   "cell_type": "code",
   "execution_count": null,
   "metadata": {},
   "outputs": [],
   "source": [
    "# save MAE dataframe if running simulations\n",
    "# df_mae_stability.to_csv('df_mae_stability.csv', index=False)"
   ]
  },
  {
   "cell_type": "code",
   "execution_count": null,
   "metadata": {
    "scrolled": false
   },
   "outputs": [],
   "source": [
    "fig = px.scatter_3d(data_frame=df_mae_stability, x='time_delta', y='delta_x', z='AbsError', title='MAE vs time delta vs grid spacing')\n",
    "fig.write_html(os.path.join('figs', 'pngs', 'stability.html'))"
   ]
  },
  {
   "cell_type": "code",
   "execution_count": 9,
   "metadata": {},
   "outputs": [
    {
     "data": {
      "text/html": [
       "\n",
       "        <iframe\n",
       "            width=\"800\"\n",
       "            height=\"600\"\n",
       "            src=\"figs/pngs/stability.html\"\n",
       "            frameborder=\"0\"\n",
       "            allowfullscreen\n",
       "        ></iframe>\n",
       "        "
      ],
      "text/plain": [
       "<IPython.lib.display.IFrame at 0x7f380476f100>"
      ]
     },
     "execution_count": 9,
     "metadata": {},
     "output_type": "execute_result"
    }
   ],
   "source": [
    "IFrame(src=os.path.join('figs', 'pngs', 'stability.html'), width=800, height=600)"
   ]
  },
  {
   "cell_type": "markdown",
   "metadata": {},
   "source": [
    "From the 3-D scatter plot we can observe, that the grid spacing is essential for the stability of the method of finite difference. Simulations with denser grid spacings (in our case for $\\Delta x = 1 mm$) have the lowest values of MAE of the radius. For higher values of $\\Delta x$, the method is not stable. We can also observe that the time delta ($\\Delta t$) does not impact the MAE as much as the grid spacing."
   ]
  },
  {
   "cell_type": "markdown",
   "metadata": {},
   "source": [
    "## Radiation Therapy Model"
   ]
  },
  {
   "cell_type": "markdown",
   "metadata": {},
   "source": [
    "Let's focus on the more positive case where treatment was started soon after the brain tumor was detected. The best form of treatment for our patient is radiotherapy. \n",
    "\n",
    "Prediction of radiobiological response is a major challenge in radiotherapy. Of several radiobiological models, the linear-quadratic (LQ) model has been best validated by experimental and clinical data. Clinically, the LQ model is increasly used to  predict tumour control probability (TCP) and normal tissue complication probability (NTCP) using logistic models. The selection of accurate LQ parameters $\\alpha$, $\\beta$  is pivotal for a reliable estimate of radiation response [14]. The linear-quadratic (LQ) model has been best validated by experimental and clinical data, and its conceptual simplicity added to its present popularity in radiotherapy practice, for instance to address clinical problems such as compensation for missed treatment days, comparison of different treatment schemes, and the design of novel treatment schedules in clinical trials [14], [15], [16].\n",
    "\n",
    "The basic LQ model describes the surviving fraction SF of clonogenic or stem cells as a function of radiation dose $D^*(t)$:"
   ]
  },
  {
   "cell_type": "markdown",
   "metadata": {},
   "source": [
    "\\begin{equation*}\n",
    " SF(D^{*})=e^{-\\alpha \\cdot D^{*}(t)-\\beta \\cdot \\left(D^*(t)\\right)^2},\n",
    "\\label{SF} \\tag{11}\n",
    "\\end{equation*}"
   ]
  },
  {
   "cell_type": "markdown",
   "metadata": {},
   "source": [
    "where $$D^{*}(t)=\n",
    "\\left\\{ \\begin{array}{ll}\n",
    "0,  & \\textrm{ $t<t_s$} \\\\\n",
    "\\gamma, & t>t_s,\n",
    "\\end{array} \\right.\n",
    "$$\n",
    "where $t_s$ is the moment of treatment commencement."
   ]
  },
  {
   "cell_type": "markdown",
   "metadata": {},
   "source": [
    "Now, the growth equation takes the form:"
   ]
  },
  {
   "cell_type": "markdown",
   "metadata": {},
   "source": [
    "\\begin{equation*}\n",
    "\\frac{\\partial c}{\\partial t} = D\\nabla^2 c + \\rho c-(1-SF(D^{*}))c.\n",
    "\\label{dct} \\tag{12}\n",
    "\\end{equation*}"
   ]
  },
  {
   "cell_type": "markdown",
   "metadata": {},
   "source": [
    "The main parameters of this model, $\\alpha$ and $\\beta$, represent the intrinsic radiosensitivity of the irradiated cells: cells with a higher $\\alpha$ and $\\beta$ are more sensitive to radiation. The ratio of the two parameters, $\\frac{\\alpha}{\\beta}$, is a measure of the fractionation sensitivity of the cells: cells with a higher $\\frac{\\alpha}{\\beta}$, are less sensitive to the sparing effect of fractionation.  The estimation of radiotherapeutic outcome, and therapeutic window strongly depends on a reliable estimation of LQ parameters $\\alpha$, $\\beta$ and $\\frac{\\alpha}{\\beta}$. It is important that values of these parameters mainly depend on tumour site and histology. Numerous studies have been carried out of various type of glioma and generally found intermediate $\\frac{\\alpha}{\\beta}$ values, typically $5–10$ Gy [17], [18], [19]. Estimates for $\\alpha$ were mostly in the range of $0.02–0.2$ $\\text{Gy}^{− 1}$ and no striking differences were found between tumour sites. Whereas estimates of $\\beta$ vary from $0.001–0.06$ $\\text{Gy}^{− 2}$."
   ]
  },
  {
   "cell_type": "code",
   "execution_count": null,
   "metadata": {},
   "outputs": [],
   "source": [
    "class RadiationTherapyModel(PDEBase):\n",
    "    \n",
    "    def __init__(self, D, rho, therapy_time, alpha, beta, dose, bc=\"natural\"):\n",
    "        self.D = D\n",
    "        self.rho = rho\n",
    "        self.bc = bc\n",
    "        self.therapy_start = therapy_time[0]\n",
    "        self.therapy_end = therapy_time[1]\n",
    "        self.alpha = alpha\n",
    "        self.beta = beta\n",
    "        self.dose = dose\n",
    "        \n",
    "    def evolution_rate(self, state, t=0):\n",
    "        c = state\n",
    "        if t>=self.therapy_start and t<=self.therapy_end:\n",
    "            R = 1 - np.exp(-(self.alpha*self.dose + self.beta*self.dose**2))\n",
    "        else:\n",
    "            R = 0\n",
    "        print(R)\n",
    "        dc_dt = self.D * c.laplace(self.bc) + self.rho*c - R*c  #*(1-c/self.K)\n",
    "        return dc_dt\n",
    "    "
   ]
  },
  {
   "cell_type": "code",
   "execution_count": null,
   "metadata": {},
   "outputs": [],
   "source": [
    "D = 0.9\n",
    "RHO = 1.16\n",
    "K = 1\n",
    "c_1 = 80  # smallest level of detection\n",
    "N = 8000\n",
    "T_MAX = 30\n",
    "THERAPY_TIME = [3, 100]\n",
    "ALPHA = 0.7\n",
    "BETA = 0.1\n",
    "DOSE = 10"
   ]
  },
  {
   "cell_type": "code",
   "execution_count": null,
   "metadata": {},
   "outputs": [],
   "source": [
    "eq = RadiationTherapyModel(D, RHO, THERAPY_TIME, ALPHA, BETA, DOSE)\n",
    "bound = 200\n",
    "grid = UnitGrid([bound, bound, bound])\n",
    "c = ScalarField(grid, 0)\n",
    "c.data[bound//2-2:bound//2+2, bound//2-2:bound//2+2, bound//2-2:bound//2+2] = N"
   ]
  },
  {
   "cell_type": "code",
   "execution_count": null,
   "metadata": {},
   "outputs": [],
   "source": [
    "storage = MemoryStorage()\n",
    "sol = eq.solve(c, t_range=T_MAX, dt=1e-1, tracker=[\"progress\", storage.tracker(1)])"
   ]
  },
  {
   "cell_type": "code",
   "execution_count": null,
   "metadata": {},
   "outputs": [],
   "source": [
    "radius_dict = {}\n",
    "for i in range(0, T_MAX+1):\n",
    "    if i == 0:\n",
    "        ars = np.asarray((storage.data[i] >= c_1)).nonzero()\n",
    "    else:\n",
    "        ars = np.asarray((storage.data[i] <= 10*c_1) & (storage.data[i] >= c_1)).nonzero()\n",
    "    current_radius = compute_radius(ars[0])\n",
    "    radius_dict[i+1] = current_radius\n",
    "    if i>=THERAPY_TIME[0]:\n",
    "        treatment = 'yes'\n",
    "    else:\n",
    "        treatment = 'no'\n",
    "    fig = px.scatter_3d(x=ars[0], y=ars[1], z=ars[2], range_x=[0, bound], range_y=[0, bound], range_z=[0, bound],\n",
    "                       title=f'Tumor at time: {i+1} [months], radius: {current_radius} [mm], during treatment: {treatment}')\n",
    "    fig.write_image(os.path.join('figs', 'pngs', 'radiation', f'tumor_{i}.png'))"
   ]
  },
  {
   "cell_type": "markdown",
   "metadata": {},
   "source": [
    "As with no treatment case, a 3-D visualization of tumor growth is presented. However, it should be noted that treatment was introduced after the third month. You will notice that from this point on, the tumor begins to expand more slowly."
   ]
  },
  {
   "cell_type": "code",
   "execution_count": null,
   "metadata": {},
   "outputs": [],
   "source": [
    "df = pd.Series(radius_dict).reset_index()\n",
    "df.columns = ['time', 'radius']"
   ]
  },
  {
   "cell_type": "code",
   "execution_count": null,
   "metadata": {
    "scrolled": true
   },
   "outputs": [],
   "source": [
    "plt.figure(figsize=(12,8))\n",
    "plt.plot(df['time'].to_list(), df['radius'].to_list(), label='Simulation')\n",
    "# plt.plot(t, theoretical, label=r'Theoretical: $2t\\sqrt{D\\rho}\\sqrt{1-\\frac{1}{\\rho t}\\log\\left(\\frac{c_1}{N} (4\\pi Dt)^{1.5}\\right)}$')\n",
    "# plt.scatter(time_of_death, 30, s=100, c='red', label=f'Time of death = {round(time_of_death, 2)}')\n",
    "plt.hlines(30, 0, 30, colors='red', linestyles='--', label='Radius at which death occurs')\n",
    "plt.vlines(THERAPY_TIME[0], 0, 60, colors='green', linestyles='--', label='Therapy start')\n",
    "plt.legend(fontsize=14)\n",
    "plt.title(f'Tumor growth with radiation started after {THERAPY_TIME[0]} months', fontdict={'size': 22})\n",
    "plt.xlabel('Time [months]', fontdict={'size': 16})\n",
    "plt.ylabel(r'Radius [$mm$]', fontdict={'size': 16})\n",
    "plt.tick_params(axis='both', which='major', labelsize=14)\n",
    "plt.savefig(os.path.join('figs', 'pngs', 'radiation_growth.png'))\n",
    "plt.show()"
   ]
  },
  {
   "cell_type": "code",
   "execution_count": 6,
   "metadata": {},
   "outputs": [
    {
     "data": {
      "text/html": [
       "<img src=\"figs/pngs/radiation_growth.png\"/>"
      ],
      "text/plain": [
       "<IPython.core.display.Image object>"
      ]
     },
     "execution_count": 6,
     "metadata": {},
     "output_type": "execute_result"
    }
   ],
   "source": [
    "Image(url=os.path.join('figs', 'pngs', 'radiation_growth.png'))  "
   ]
  },
  {
   "cell_type": "markdown",
   "metadata": {},
   "source": [
    "The above plot of tumor radius growth over time is a confirmation of what could be seen in the simulation. The vertical green dashed line shows when the treatment is applied. After that, the tumor grows much more gently, extending the life span significantly. "
   ]
  },
  {
   "cell_type": "code",
   "execution_count": null,
   "metadata": {},
   "outputs": [],
   "source": [
    "!convert -delay 25 -loop 0 `ls -v figs/pngs/radiation/*.png` figs/gifs/radiation.gif"
   ]
  },
  {
   "cell_type": "code",
   "execution_count": 7,
   "metadata": {},
   "outputs": [
    {
     "data": {
      "text/html": [
       "<img src=\"figs/gifs/radiation.gif\"/>"
      ],
      "text/plain": [
       "<IPython.core.display.Image object>"
      ]
     },
     "execution_count": 7,
     "metadata": {},
     "output_type": "execute_result"
    }
   ],
   "source": [
    "Image(url=os.path.join('figs', 'gifs', 'radiation.gif'))  "
   ]
  },
  {
   "cell_type": "markdown",
   "metadata": {},
   "source": [
    "## Conclusions\n",
    "Models for treating the cancer are increasingly studied in the oncology, which is an important scientific field. Worldwide, an estimated 19.3 million new cancer cases (18.1 million excluding nonmelanoma skin cancer) and almost 10.0 million cancer deaths. Using mathematical models can help in understanding the evolution process of tumors and developing new kinds of treatment methods, which potentially can decrease the number of deaths.\n",
    "\n",
    "In our project, we've considered two cases of cancer evolution:\n",
    "- without treatment;\n",
    "- with radiation treatment.\n",
    "\n",
    "In the first case the results of considered model shows, that the death of a patient occurs around 16 months after the start of a disease. Simulated evolution of a disease was similar to the theoretical one. Considered parameters were taken from the results obtained in [13] and represent realistic case of tumor growth.\n",
    "\n",
    "The second model considered a case, when patient was treated soon (3 months) after tumor appearance. Early start of radiation therapy resulted in a significant prolongation of patient lifetime. However, the parameters considered in our project (which were chosen based on [17], [18], [19]) did not result in defeating the disease. It might bring to a conclusion, that overcoming cancer is difficult without taking surgery.\n",
    "\n",
    "Our simulations could be possibly extended by finding parameters for which the tumor radius runs down to zero. However, applying such doses of radiation might not be biologically realistic.\n",
    "\n",
    "Studying literature has allowed us to enlarge our knowledge of possible applications of PDEs in the field of oncology. We've also explored the methods of simulating such equations."
   ]
  },
  {
   "cell_type": "markdown",
   "metadata": {},
   "source": [
    "# Bibliography\n",
    "\n",
    "[1]  X. Sun, B. Hu, *Mathematical modeling and computational prediction of cancer drug resistance*, Briefings in Bioinformatics 19 (6) (2017) 1382-1399.\n",
    "\n",
    "[2] A. Beksac, D. Palucci, K. Blum, S. Yadav, J. Sfakianos, K. Badani, *Heterogeneity in renal cell carcinoma*, Urologic Oncology: Seminars and Original Investigations 35 (8) (2017) 507-515.\n",
    "\n",
    "[3] C. Kim, R. Gao, E. Sei, R. Brandt, J. Hartman, T. Hatschek, N. Crosetto, T. Foukakis, N. Navin, *Chemoresistance Evolution in Triple-Negative Breast Cancer Delineated by Single-Cell Sequencing*, Cell 173 (4) (2018) 0092-8674\n",
    "\n",
    "[4] N. Beerenwinkel, R. Schwarz, M. Gerstung, F. Markowetz, *Cancer Evolution: Mathematical Models and Computational Inference*, Systematic Biology 64 (1) (2014) e1-e25.\n",
    "\n",
    "[5] B. Zhao, M. Hemann, D. Lauffenburger, *Modeling Tumor Clonal Evolution for Drug Combinations Design*, Trends in Cancer 2 (3) (2016) 2405-8033.\n",
    "\n",
    "[6] R. Chisholm, T. Lorenzi, J. Clairambault, *Cell population heterogeneity and evolution towards drug resistance in cancer: Biological and mathematical assessment, theoretical treatment optimisation*, Biochimica et Biophysica Acta (BBA) - General Subjects 1860 (11) (2016) 2627-2645.\n",
    "\n",
    "[7] C. Attolini, F. Michor, *Evolutionary Theory of Cancer*, Annals of the New York Academy of Sciences 1168 (1) (2009) 23-51.\n",
    "\n",
    "[8] J. Foo, F. Michor, *Evolution of acquired resistance to anti-cancer therapy*, Journal of Theoretical Biology, 355 (2014) 10-20.\n",
    "\n",
    "[9] K. Swanson, R. Rostomily, E. Alvord, *A mathematical modelling tool for predicting survival of individual patients following resection of glioblastoma: a proof of principle*, Br J Cancer 98 (2008) 113–119. \n",
    "\n",
    "[10] N. Meghdadi, M. Soltani, H. Niroomand-Oscuii, F. Ghalichi, *Image based modeling of tumor growth*, Australasian Physical and Engineering Sciences in Medicine, 39 (2016) 601-613.\n",
    "\n",
    "[11] E. Mandonnet, J. Pallud, O. Clatz, L. Taillandier, E. Konukoglu, H. Duffau & L. Capelle, *Computational modeling of the WHO grade II glioma dynamics: principles and applications to management paradigm*, Neurosurgical Review 31 (2008) 263–269.\n",
    "\n",
    "[12] D. Silbergeld, R. Rostomily, E. Alvord, *Alvord,The cause of death in patients with glioblastomas is multifocal:Clinical factors and autopsy findings in 117 cases of supratentorial glioblastomas in adults*, J. Neuro-Oncol. 10 (1991) 179–185.\n",
    "\n",
    "[13] R. Rockne, J. Rockhill, M. Mrugala, A. Spence, I. Kalet, K. Hendrickson, A. Lai, T. Cloughesy, E. Alvord, K. Swanson, *Predicting the efficacy of radiotherapy in individual glioblastoma patients in vivo: A mathematicalmodeling approach*, Physical and Engineering Sciences in Medicine 55 (2010) 3271–3285.\n",
    "\n",
    "[14] B. Douglas, J. Fowler , *The Effect of Multiple Small Doses of X Rays on Skin Reactions in the Mouse and a Basic Interpretation*, Radiation Research 66 (2) 401-426.\n",
    "\n",
    "[15] G. Barendsen, *Dose fractionation, dose rate and iso-effect relationships for normal tissue responses*, International Journal of Radiation Oncology, Biology, Physics 8 (11) (1982) 1981-1997.\n",
    "\n",
    "[16] M. Joiner, A. Kogel, *Basic Clinical Radiobiology*, London: Hodder Arnold (2009).\n",
    "\n",
    "[17] L. Barazzuol, J. Neil, B. Jones, S. Jefferies, N. Kirkby, *A mathematical model of brain tumour response to radiotherapy and chemotherapy considering radiobiological aspects*, Journal of Theoretical Biology 262 (3) (2009) 553.\n",
    "\n",
    "[18] B. Jones, P. Sanghera, *Estimation of Radiobiologic Parameters and Equivalent Radiation Dose of Cytotoxic Chemotherapy in Malignant Glioma*, International Journal of Radiation Oncology, Biology, Physics 68 (2) (2007) 441-448.\n",
    "\n",
    "[19] X. Sharon, P. Sanghera, *An estimation of radiobiologic parameters from clinical outcomes for radiation treatment planning of brain tumor*, International Journal of Radiation Oncology, Biology, Physics, 64 (5) (2006) 1570-1580."
   ]
  }
 ],
 "metadata": {
  "kernelspec": {
   "display_name": "data_science",
   "language": "python",
   "name": "data_science"
  },
  "language_info": {
   "codemirror_mode": {
    "name": "ipython",
    "version": 3
   },
   "file_extension": ".py",
   "mimetype": "text/x-python",
   "name": "python",
   "nbconvert_exporter": "python",
   "pygments_lexer": "ipython3",
   "version": "3.8.5"
  }
 },
 "nbformat": 4,
 "nbformat_minor": 4
}
