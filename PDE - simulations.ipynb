{
 "cells": [
  {
   "cell_type": "markdown",
   "metadata": {},
   "source": [
    "**PLAN:**\n",
    "- wstęp\n",
    "- rozwój nowotworów bez podejmowania leczenia;\n",
    "- rozwój nowotworów przy podjęciu leczenia;\n",
    "- sprawdzenie, jak moment podjęcia leczenia wpływa na rozwój nowotworu\n",
    "- opis metod numerycznych rozwiązywania PDE zaimplementowanych w py-pde."
   ]
  },
  {
   "cell_type": "markdown",
   "metadata": {},
   "source": [
    "Założenie: śmierć następuje w momencie, gdy liczba komórek z gęstością większą niż 0.5 przekracza 30%.\n",
    "1. Symulacja bez leczenia - czas przeżycia\n",
    "2. Symulacja z leczeniem - czas przeżycia, minimalny czas podjęcia leczenia\n",
    "3. Opis rozwiązania równania"
   ]
  },
  {
   "cell_type": "markdown",
   "metadata": {},
   "source": [
    "# Cancer modeling with partial differential equations"
   ]
  },
  {
   "cell_type": "markdown",
   "metadata": {},
   "source": [
    "## Proliferation–invasion model. Cancer without any treatment."
   ]
  },
  {
   "cell_type": "markdown",
   "metadata": {},
   "source": [
    "$$\\frac{\\partial c}{\\partial t} = D\\nabla^2 c + \\rho c\\left(1-\\frac{c}{K}\\right)$$"
   ]
  },
  {
   "cell_type": "markdown",
   "metadata": {},
   "source": [
    "This is a classical conservation–diffusion equation (Murray, 2003), in which $c(x, t)$ defines the concentration of malignant cells at location $x$ and time $t$, $D~(mm^2\\,day^{−1})$ is the random motility (dispersal) coefficient defining the net rate of migration of the tumour cells, $\\rho$ (per day) represents the net proliferation rate of the tumour cells (including mitosis and cell loss), $K$ is the limiting concentration of cells that a volume of tissue can hold (i.e., the carrying capacity of the tissue) and $\\nabla^2$ represents the dispersal operator, the Laplacian, expressed mathematically as the sum of three second derivatives in space."
   ]
  },
  {
   "cell_type": "code",
   "execution_count": 1,
   "metadata": {},
   "outputs": [],
   "source": [
    "import os\n",
    "import plotly.express as px\n",
    "import plotly.graph_objects as go\n",
    "import pandas as pd\n",
    "import numpy as np\n",
    "import matplotlib.pyplot as plt"
   ]
  },
  {
   "cell_type": "code",
   "execution_count": 2,
   "metadata": {},
   "outputs": [],
   "source": [
    "from pde import CartesianGrid, MemoryStorage, PDEBase, ScalarField, plot_kymograph, PlotTracker, FieldCollection, UnitGrid\n",
    "from scipy import optimize\n",
    "from IPython.display import Image"
   ]
  },
  {
   "cell_type": "code",
   "execution_count": 3,
   "metadata": {},
   "outputs": [],
   "source": [
    "class ConservationDiffusion(PDEBase):\n",
    "    \n",
    "    def __init__(self, D, rho, K, bc=\"natural\"):\n",
    "        self.D = D\n",
    "        self.rho = rho\n",
    "        self.K = K\n",
    "        self.bc = bc\n",
    "        \n",
    "    def evolution_rate(self, state, t=0):\n",
    "        c = state\n",
    "        dc_dt = self.D * c.laplace(self.bc) + self.rho*c#*(1-c/self.K)\n",
    "        return dc_dt\n",
    "    \n",
    "def compute_radius(idx_array):\n",
    "    radius = (max(idx_array) - min(idx_array)) / 2\n",
    "    return radius\n",
    "\n",
    "def create_dir_if_not_exists(dirname):\n",
    "    if not os.path.exists(dirname):\n",
    "        os.makedirs(dirname)"
   ]
  },
  {
   "cell_type": "code",
   "execution_count": 4,
   "metadata": {},
   "outputs": [],
   "source": [
    "D = 0.9\n",
    "RHO = 1.16\n",
    "K = 1\n",
    "c_1 = 80  # smallest level of detection\n",
    "N = 8000\n",
    "T_MAX = 30"
   ]
  },
  {
   "cell_type": "code",
   "execution_count": 5,
   "metadata": {},
   "outputs": [],
   "source": [
    "eq = ConservationDiffusion(D=D, rho=RHO, K=K)"
   ]
  },
  {
   "cell_type": "markdown",
   "metadata": {},
   "source": [
    "**Assumptions:**\n",
    "\n",
    "- We consider a tissue, which is a cube of size: $20\\,cm \\times 20\\,cm \\times 20\\,cm$;\n",
    "- For simulations we use a 3 dimensional Cartesian grid - each dimension having a size of 200. That means, every cell has a size of $1\\,mm \\times 1\\,mm \\times 1\\,mm$ and a volume of $1\\,mm^3$.\n",
    "- The death occurs when tumor reaches radius ($r$) of $30\\,mm$."
   ]
  },
  {
   "cell_type": "code",
   "execution_count": 6,
   "metadata": {},
   "outputs": [],
   "source": [
    "bound = 200\n",
    "grid = UnitGrid([bound, bound, bound])\n",
    "c = ScalarField(grid, 0)\n",
    "c.data[bound//2-2:bound//2+2, bound//2-2:bound//2+2, bound//2-2:bound//2+2] = N"
   ]
  },
  {
   "cell_type": "code",
   "execution_count": 7,
   "metadata": {},
   "outputs": [],
   "source": [
    "storage = MemoryStorage()"
   ]
  },
  {
   "cell_type": "code",
   "execution_count": 8,
   "metadata": {
    "scrolled": true
   },
   "outputs": [
    {
     "data": {
      "application/vnd.jupyter.widget-view+json": {
       "model_id": "5e7d3f42f6914a77afece12c3fb1726f",
       "version_major": 2,
       "version_minor": 0
      },
      "text/plain": [
       "HBox(children=(HTML(value=''), FloatProgress(value=0.0, max=30.0), HTML(value='')))"
      ]
     },
     "metadata": {},
     "output_type": "display_data"
    }
   ],
   "source": [
    "sol = eq.solve(c, t_range=T_MAX, dt=1e-1, tracker=[\"progress\", storage.tracker(1)])"
   ]
  },
  {
   "cell_type": "code",
   "execution_count": 9,
   "metadata": {
    "scrolled": false
   },
   "outputs": [],
   "source": [
    "for dir_ in ['figs',\n",
    "             os.path.join('figs', 'pngs'),\n",
    "             os.path.join('figs', 'pngs', 'no_treatment'),\n",
    "             os.path.join('figs', 'gifs')]:\n",
    "    create_dir_if_not_exists(dir_)\n",
    "    \n",
    "radius_dict = {}\n",
    "for i in range(0, T_MAX+1):\n",
    "    if i == 0:\n",
    "        ars = np.asarray((storage.data[i] >= c_1)).nonzero()\n",
    "    else:\n",
    "        ars = np.asarray((storage.data[i] <= 10*c_1) & (storage.data[i] >= c_1)).nonzero()\n",
    "    current_radius = compute_radius(ars[0])\n",
    "    radius_dict[i+1] = current_radius\n",
    "    fig = px.scatter_3d(x=ars[0], y=ars[1], z=ars[2], range_x=[0, bound], range_y=[0, bound], range_z=[0, bound],\n",
    "                       title=f'Tumor at time: {i+1} [months], radius: {current_radius} [mm]')\n",
    "    fig.write_image(os.path.join('figs', 'pngs', 'no_treatment', f'tumor_{i}.png'))"
   ]
  },
  {
   "cell_type": "code",
   "execution_count": 16,
   "metadata": {},
   "outputs": [],
   "source": [
    "df = pd.Series(radius_dict).reset_index()\n",
    "df.columns = ['time', 'radius']"
   ]
  },
  {
   "cell_type": "code",
   "execution_count": 17,
   "metadata": {},
   "outputs": [],
   "source": [
    "t = np.arange(1, T_MAX+1, 1)\n",
    "theoretical = 2*t*np.sqrt(RHO*D)*np.sqrt(1-(1/(RHO*t))*np.log((c_1/N)*(4*np.pi*D*t)**1.5))\n",
    "theoretical_1 = 2*t*np.sqrt(RHO*D)"
   ]
  },
  {
   "cell_type": "code",
   "execution_count": 18,
   "metadata": {},
   "outputs": [
    {
     "name": "stdout",
     "output_type": "stream",
     "text": [
      "Time of death [months]: 16.12635954486013\n"
     ]
    }
   ],
   "source": [
    "def f(t, D, RHO, c_1, N):\n",
    "    return 2*t*np.sqrt(D*RHO)*np.sqrt(1-(1/(RHO*t))*np.log((c_1/N)*(4*np.pi*D*t)**1.5)) - 30\n",
    "\n",
    "sol = optimize.root_scalar(f, args=(D, RHO, c_1, N), bracket=[14, 18], method='brentq')\n",
    "time_of_death = sol.root\n",
    "print(f'Time of death [months]: {time_of_death}')"
   ]
  },
  {
   "cell_type": "code",
   "execution_count": 19,
   "metadata": {
    "scrolled": false
   },
   "outputs": [
    {
     "data": {
      "image/png": "[encoded data removed]",
      "text/plain": [
       "<Figure size 864x576 with 1 Axes>"
      ]
     },
     "metadata": {
      "needs_background": "light"
     },
     "output_type": "display_data"
    }
   ],
   "source": [
    "plt.figure(figsize=(12,8))\n",
    "plt.plot(df['time'].to_list(), df['radius'].to_list(), label='Simulation')\n",
    "plt.plot(t, theoretical, label=r'Theoretical: $2t\\sqrt{D\\rho}\\sqrt{1-\\frac{1}{\\rho t}\\log\\left(\\frac{c_1}{N} (4\\pi Dt)^{1.5}\\right)}$')\n",
    "plt.scatter(time_of_death, 30, s=100, c='red', label=f'Time of death = {round(time_of_death, 2)}')\n",
    "plt.hlines(30, 0, 30, colors='red', linestyles='--', label='Radius at which death occurs')\n",
    "plt.legend(fontsize=14)\n",
    "plt.title('Tumor growth without any treatment', fontdict={'size': 22})\n",
    "plt.xlabel('Time [months]', fontdict={'size': 16})\n",
    "plt.ylabel(r'Radius [$mm$]', fontdict={'size': 16})\n",
    "plt.tick_params(axis='both', which='major', labelsize=14)\n",
    "plt.savefig(os.path.join('figs', 'pngs', 'no_treatment_growth.png'))\n",
    "plt.show()"
   ]
  },
  {
   "cell_type": "markdown",
   "metadata": {},
   "source": [
    "**Warning:** This line might work only on Linux OS (gif creation)"
   ]
  },
  {
   "cell_type": "code",
   "execution_count": 15,
   "metadata": {},
   "outputs": [],
   "source": [
    "!convert -delay 25 -loop 0 `ls -v figs/pngs/no_treatment/*.png` figs/gifs/no-treatment.gif"
   ]
  },
  {
   "cell_type": "markdown",
   "metadata": {},
   "source": [
    "But the gif image is saved in the repository, so running this line should be possible"
   ]
  },
  {
   "cell_type": "code",
   "execution_count": 14,
   "metadata": {},
   "outputs": [
    {
     "data": {
      "text/html": [
       "<img src=\"figs/gifs/no-treatment.gif\"/>"
      ],
      "text/plain": [
       "<IPython.core.display.Image object>"
      ]
     },
     "execution_count": 14,
     "metadata": {},
     "output_type": "execute_result"
    }
   ],
   "source": [
    "Image(url=os.path.join('figs', 'gifs', 'no-treatment.gif'))  "
   ]
  },
  {
   "cell_type": "markdown",
   "metadata": {},
   "source": [
    "## Radiation Therapy Model"
   ]
  },
  {
   "cell_type": "code",
   "execution_count": null,
   "metadata": {},
   "outputs": [],
   "source": []
  }
 ],
 "metadata": {
  "kernelspec": {
   "display_name": "data_science",
   "language": "python",
   "name": "data_science"
  },
  "language_info": {
   "codemirror_mode": {
    "name": "ipython",
    "version": 3
   },
   "file_extension": ".py",
   "mimetype": "text/x-python",
   "name": "python",
   "nbconvert_exporter": "python",
   "pygments_lexer": "ipython3",
   "version": "3.8.5"
  }
 },
 "nbformat": 4,
 "nbformat_minor": 4
}
