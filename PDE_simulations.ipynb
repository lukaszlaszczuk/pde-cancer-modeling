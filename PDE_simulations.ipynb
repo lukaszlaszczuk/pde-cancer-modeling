{
 "cells": [
  {
   "cell_type": "markdown",
   "metadata": {},
   "source": [
    "**PLAN:**\n",
    "- wstęp\n",
    "- rozwój nowotworów bez podejmowania leczenia;\n",
    "- rozwój nowotworów przy podjęciu leczenia;\n",
    "- sprawdzenie, jak moment podjęcia leczenia wpływa na rozwój nowotworu\n",
    "- opis metod numerycznych rozwiązywania PDE zaimplementowanych w py-pde."
   ]
  },
  {
   "cell_type": "markdown",
   "metadata": {},
   "source": [
    "Założenie: śmierć następuje w momencie, gdy liczba komórek z gęstością większą niż 0.5 przekracza 30%.\n",
    "1. Symulacja bez leczenia - czas przeżycia\n",
    "2. Symulacja z leczeniem - czas przeżycia, minimalny czas podjęcia leczenia\n",
    "3. Opis rozwiązania równania"
   ]
  },
  {
   "cell_type": "markdown",
   "metadata": {},
   "source": [
    "```bash\n",
    "sudo apt-get install texlive-latex-extra\n",
    "sudo apt-get install texlive-bibtex-extra\n",
    "```"
   ]
  },
  {
   "cell_type": "markdown",
   "metadata": {},
   "source": [
    "# Cancer modeling with partial differential equations"
   ]
  },
  {
   "cell_type": "markdown",
   "metadata": {},
   "source": [
    "<cite data-cite=\"1\">1</cite> Cancer is a sophisticated interaction of many abnormal features and cell types, which are situated in a heterogeneous habitat of normal tissue. A neoplasm is a type of abnormal and excessive growth. The growth of a neoplasm is uncoordinated with that of the normal surrounding tissue, and persists in growing abnormally, even if the original trigger is removed. This abnormal growth usually forms a mass, which may be called a tumor. In recent years, there has been an increasing number of cancer cases. Unfortunately, tumors are such a dangerous disease that they often lead to the death of the patient. There is no single effective cure for fighting this disease: drug resistance is one of the major reasons for patients experiencing treatment failure in the area of oncology.(1)  However, increasing knowledge of intertumor and intratumor heterogeneity, suggesting the existence of distinct cells in different or the same tumors, and the evolution of cancer, has contributed to a better understanding of resistance to anti-cancer therapy.\n",
    "Mathematical models that characterize the effects of anticancer drug treatment for solid tumors based on tumor size dynamics, which is typically quantified with measurements of tumor diameter and volume, represent one key class of models applied in cancer pharmacology. Many of the spatial models incancer modelling are based on partial differential equations (PDEs) that include spatial heterogeneity, orientational tissue structure, tissue stiffness and deformability.\n",
    "More and more studies on gene sequencing from tumor biopsies in various types of cancer show the dynamics of tumor evolution. (2, 12) To better characterize this process and take into account tumor heterogeneity, mathematical models have been proposed that take into account tumor evolution. (13-17) Such evolution models in combination with tumor growth models can be used to interpret both the change in tumor size and the progression of tumor progression during treatment, thereby ultimately rationalizing adaptive therapies for individual patients and overcoming treatment resistance. The topic of cancer development is now so extensively expanded and researched, therefore many publications related to it can be found. They especially concern brain tumors. One common application is known as a proliferation–invasion model or a reaction–diffusion model, which hypothesize that it is the net proliferation and invasion that contribute to the growth of cancer (61). This kind of model has been used in studies where imaging observations of brain tumors were available to describe and predict tumor expansion, where the dynamics of tumor cell concentration/density is described.(8, 61) Also the tumor proliferation can be expressed by exponential, logistic, or Gompertz functions. (8, 61) Moreover, one can mathematically explore the expansion of imaging detectable tumor edge as a “traveling wave,” and the velocity of tumor expansion is a constant that is determined by the diffusion coefficient and growth rate constant $\\rho$.(61, 62)"
   ]
  },
  {
   "cell_type": "markdown",
   "metadata": {},
   "source": [
    "## Proliferation–invasion model. Cancer without any treatment."
   ]
  },
  {
   "cell_type": "markdown",
   "metadata": {},
   "source": [
    "Let's look at the case of a patient suffering from the most aggressive brain tumor - glioblastoma, which, unfortunately, has not been detected soon enough and has not been treated. Gliomas are always fatal with a median life expectancy of 9–12 months from detection (12 - from the article in item 2). It is now known that cancer cell diffusion, mainly ignored up to some time, is a major component of glioma growth. In this case The mathematical model which encompasses the two key elements in the growth of tumours, namely the invasive diffusive properties of the cancer cells and their growth rate, is given by the classical conservation–diffusion equation:"
   ]
  },
  {
   "cell_type": "markdown",
   "metadata": {},
   "source": [
    "\\begin{equation*}\n",
    "\\frac{\\partial c}{\\partial t} = \\nabla \\cdot D(x)\\nabla c + \\rho c,\n",
    "\\label{dc} \\tag{1}\n",
    "\\end{equation*}\n",
    "\n",
    "\n"
   ]
  },
  {
   "cell_type": "markdown",
   "metadata": {},
   "source": [
    "where $c(x, t)$ defines the concentration of malignant cells at location $x$ and time $t$, $D~(mm^2\\,day^{−1})$ is the random motility (dispersal) coefficient defining the net rate of migration of the tumour cells, $\\rho$ (per day) represents the net proliferation rate of the tumour cells (including mitosis and cell loss) and $\\nabla^2$ represents the dispersal operator, the Laplacian, expressed mathematically as the sum of three second derivatives in space.\n",
    "\n",
    "The solutions of the model equation provide life expectancy estimates for individual patientsand, crucially in the event of a scientific clinical study, estimates of how long the tumour has been growing before it is detected. The procedure is to estimate the parameter values for each patient to obtain the average diffusion coefficient and the average growth rate. Imaging of the tumour is used to calculate its volume from which the volume of an equivalent sphere: $\\frac{4}{3}\\pi r^3$, where $r$ is a radius. For an equivalent radially symmetric tumor with a constant diffusion coefficient, the growth equation takes the form:\n"
   ]
  },
  {
   "cell_type": "markdown",
   "metadata": {},
   "source": [
    "\\begin{equation*}\n",
    "\\frac{\\partial c}{\\partial t}=D\\left[\\frac{\\partial^{2}c}{\\partial r^{2}}+\\frac{2}{r}\\frac{\\partial c}{\\partial r}\\right] + \\rho c.\n",
    "\\label{dc2} \\tag{2}\n",
    "\\end{equation*}\n"
   ]
  },
  {
   "cell_type": "markdown",
   "metadata": {},
   "source": [
    "Solution of this equation is given by"
   ]
  },
  {
   "cell_type": "markdown",
   "metadata": {},
   "source": [
    "\\begin{equation*}\n",
    "c(r,t)=\\frac{N\\ exp(\\rho t-r^{2}/4Dt)}{8(\\pi Dt)^{\\frac{3}{2}}},\n",
    "\\label{c} \\tag{3}\n",
    "\\end{equation*}"
   ]
  },
  {
   "cell_type": "markdown",
   "metadata": {},
   "source": [
    "where $N$ is a concentrated number of cancer cells ($\\frac{\\text{cells}}{mm^3})$ at time $t=0$ (with $r=0$).\n",
    "\n",
    "Then, the radius of the tumour for some cell density is\n"
   ]
  },
  {
   "cell_type": "markdown",
   "metadata": {},
   "source": [
    "\\begin{equation*}\n",
    "r=2t\\sqrt{D\\rho}\\sqrt{1-\\frac{1}{\\rho t}\\log \\left(\\frac{c_1}{N}(4\\pi Dt)^{\\frac{3}{2}}\\right)},\n",
    "\\label{r} \\tag{4}\n",
    "\\end{equation*}"
   ]
  },
  {
   "cell_type": "markdown",
   "metadata": {},
   "source": [
    "where $c_1\\  [\\frac{\\text{cells}}{mm^3}]$ is the smallest level of image detection.\n",
    "\n",
    "For large time, the above solution gives the approximate radius of the detectable tumour and the velocity of growth:"
   ]
  },
  {
   "cell_type": "markdown",
   "metadata": {},
   "source": [
    "\\begin{equation*}\n",
    "r=2t\\sqrt{D\\rho} \\to v=rt=2\\sqrt{D\\rho}.\n",
    "\\label{r} \\tag{5}\n",
    "\\end{equation*}"
   ]
  },
  {
   "cell_type": "markdown",
   "metadata": {},
   "source": [
    "That means that the equivalent radial growth is linear in time, a finding medically confirmed. For example, if we consider detection is when the spherical equivalent tumour volume is of $r=15$ mm and that death occurs when the $r= 30$ mm, the approximate survival time from detection, in the absence of any treatments, is given by:"
   ]
  },
  {
   "cell_type": "markdown",
   "metadata": {},
   "source": [
    "$$t_s=t_{r=30}-t_{r=15}=\\frac{7.5}{D \\rho}.$$"
   ]
  },
  {
   "cell_type": "markdown",
   "metadata": {},
   "source": [
    "Most of the growth rate values, $\\rho$, and the $D$ are in the range respectively $\\frac{0.1-5}{\\text{month}}$ and $\\frac{0.1-8\\ \\text{mm}^{2}}{\\text{month}}.$\n",
    "\n",
    "What is important, survival time depends on where the tumour is mainly situated. If it is primarily in the grey area of the thalamus, for example, the diffusion is smaller and so the survival time is longer.\n",
    "Research shows that the  ranges  of  parameter values  for  nine  patients  (11- from the article in item 2)  with  glioblastomas  were $D= \\frac{0.55-4.23\\ \\text{mm}^{2}}{\\text{month}}$  and $\\rho =\\frac{0.3-4.19}{\\text{month}}$: the medians are $D=0.9\\frac{\\text{mm}^{2}}{\\text{month}}$ and $\\rho = \\frac{1.16}{\\text{month}}$. These give a median survival time without any treatment for 7.34 months. "
   ]
  },
  {
   "cell_type": "code",
   "execution_count": 17,
   "metadata": {},
   "outputs": [],
   "source": [
    "import os\n",
    "import plotly.express as px\n",
    "import plotly.graph_objects as go\n",
    "import pandas as pd\n",
    "import numpy as np\n",
    "import matplotlib.pyplot as plt"
   ]
  },
  {
   "cell_type": "code",
   "execution_count": 18,
   "metadata": {},
   "outputs": [
    {
     "ename": "ModuleNotFoundError",
     "evalue": "No module named 'pde'",
     "output_type": "error",
     "traceback": [
      "\u001b[1;31m---------------------------------------------------------------------------\u001b[0m",
      "\u001b[1;31mModuleNotFoundError\u001b[0m                       Traceback (most recent call last)",
      "\u001b[1;32m<ipython-input-18-18a6bf85225f>\u001b[0m in \u001b[0;36m<module>\u001b[1;34m()\u001b[0m\n\u001b[1;32m----> 1\u001b[1;33m \u001b[1;32mfrom\u001b[0m \u001b[0mpde\u001b[0m \u001b[1;32mimport\u001b[0m \u001b[0mCartesianGrid\u001b[0m\u001b[1;33m,\u001b[0m \u001b[0mMemoryStorage\u001b[0m\u001b[1;33m,\u001b[0m \u001b[0mPDEBase\u001b[0m\u001b[1;33m,\u001b[0m \u001b[0mScalarField\u001b[0m\u001b[1;33m,\u001b[0m \u001b[0mplot_kymograph\u001b[0m\u001b[1;33m,\u001b[0m \u001b[0mPlotTracker\u001b[0m\u001b[1;33m,\u001b[0m \u001b[0mFieldCollection\u001b[0m\u001b[1;33m,\u001b[0m \u001b[0mUnitGrid\u001b[0m\u001b[1;33m\u001b[0m\u001b[0m\n\u001b[0m\u001b[0;32m      2\u001b[0m \u001b[1;32mfrom\u001b[0m \u001b[0mscipy\u001b[0m \u001b[1;32mimport\u001b[0m \u001b[0moptimize\u001b[0m\u001b[1;33m\u001b[0m\u001b[0m\n\u001b[0;32m      3\u001b[0m \u001b[1;32mfrom\u001b[0m \u001b[0mIPython\u001b[0m\u001b[1;33m.\u001b[0m\u001b[0mdisplay\u001b[0m \u001b[1;32mimport\u001b[0m \u001b[0mImage\u001b[0m\u001b[1;33m\u001b[0m\u001b[0m\n",
      "\u001b[1;31mModuleNotFoundError\u001b[0m: No module named 'pde'"
     ]
    }
   ],
   "source": [
    "from pde import CartesianGrid, MemoryStorage, PDEBase, ScalarField, plot_kymograph, PlotTracker, FieldCollection, UnitGrid\n",
    "from scipy import optimize\n",
    "from IPython.display import Image"
   ]
  },
  {
   "cell_type": "code",
   "execution_count": 4,
   "metadata": {},
   "outputs": [
    {
     "ename": "SyntaxError",
     "evalue": "invalid syntax (<ipython-input-4-1465f639fbce>, line 1)",
     "output_type": "error",
     "traceback": [
      "\u001b[1;36m  File \u001b[1;32m\"<ipython-input-4-1465f639fbce>\"\u001b[1;36m, line \u001b[1;32m1\u001b[0m\n\u001b[1;33m    sudo apt-get install textlive-latex-extra\u001b[0m\n\u001b[1;37m           ^\u001b[0m\n\u001b[1;31mSyntaxError\u001b[0m\u001b[1;31m:\u001b[0m invalid syntax\n"
     ]
    }
   ],
   "source": [
    "sudo apt-get install textlive-latex-extra\n",
    "sudo apt-get install textlive-bibtex-extra"
   ]
  },
  {
   "cell_type": "code",
   "execution_count": 23,
   "metadata": {},
   "outputs": [
    {
     "ename": "NameError",
     "evalue": "name 'PDEBase' is not defined",
     "output_type": "error",
     "traceback": [
      "\u001b[1;31m---------------------------------------------------------------------------\u001b[0m",
      "\u001b[1;31mNameError\u001b[0m                                 Traceback (most recent call last)",
      "\u001b[1;32m<ipython-input-23-c85ba0358a14>\u001b[0m in \u001b[0;36m<module>\u001b[1;34m()\u001b[0m\n\u001b[1;32m----> 1\u001b[1;33m \u001b[1;32mclass\u001b[0m \u001b[0mNoTreatmentModel\u001b[0m\u001b[1;33m(\u001b[0m\u001b[0mPDEBase\u001b[0m\u001b[1;33m)\u001b[0m\u001b[1;33m:\u001b[0m\u001b[1;33m\u001b[0m\u001b[0m\n\u001b[0m\u001b[0;32m      2\u001b[0m \u001b[1;33m\u001b[0m\u001b[0m\n\u001b[0;32m      3\u001b[0m     \u001b[1;32mdef\u001b[0m \u001b[0m__init__\u001b[0m\u001b[1;33m(\u001b[0m\u001b[0mself\u001b[0m\u001b[1;33m,\u001b[0m \u001b[0mD\u001b[0m\u001b[1;33m,\u001b[0m \u001b[0mrho\u001b[0m\u001b[1;33m,\u001b[0m \u001b[0mK\u001b[0m\u001b[1;33m,\u001b[0m \u001b[0mbc\u001b[0m\u001b[1;33m=\u001b[0m\u001b[1;34m\"natural\"\u001b[0m\u001b[1;33m)\u001b[0m\u001b[1;33m:\u001b[0m\u001b[1;33m\u001b[0m\u001b[0m\n\u001b[0;32m      4\u001b[0m         \u001b[0mself\u001b[0m\u001b[1;33m.\u001b[0m\u001b[0mD\u001b[0m \u001b[1;33m=\u001b[0m \u001b[0mD\u001b[0m\u001b[1;33m\u001b[0m\u001b[0m\n\u001b[0;32m      5\u001b[0m         \u001b[0mself\u001b[0m\u001b[1;33m.\u001b[0m\u001b[0mrho\u001b[0m \u001b[1;33m=\u001b[0m \u001b[0mrho\u001b[0m\u001b[1;33m\u001b[0m\u001b[0m\n",
      "\u001b[1;31mNameError\u001b[0m: name 'PDEBase' is not defined"
     ]
    }
   ],
   "source": [
    "class NoTreatmentModel(PDEBase):\n",
    "    \n",
    "    def __init__(self, D, rho, K, bc=\"natural\"):\n",
    "        self.D = D\n",
    "        self.rho = rho\n",
    "        self.bc = bc\n",
    "        \n",
    "    def evolution_rate(self, state, t=0):\n",
    "        c = state\n",
    "        dc_dt = self.D * c.laplace(self.bc) + self.rho*c  #*(1-c/self.K)\n",
    "        return dc_dt\n",
    "    \n",
    "def compute_radius(idx_array):\n",
    "    radius = (max(idx_array) - min(idx_array)) / 2\n",
    "    return radius\n",
    "\n",
    "def create_dir_if_not_exists(dirname):\n",
    "    if not os.path.exists(dirname):\n",
    "        os.makedirs(dirname)"
   ]
  },
  {
   "cell_type": "code",
   "execution_count": 20,
   "metadata": {},
   "outputs": [],
   "source": [
    "D = 0.9\n",
    "RHO = 1.16\n",
    "#K = 1\n",
    "c_1 = 80  # smallest level of detection\n",
    "N = 8000\n",
    "T_MAX = 30"
   ]
  },
  {
   "cell_type": "code",
   "execution_count": 21,
   "metadata": {},
   "outputs": [
    {
     "ename": "NameError",
     "evalue": "name 'NoTreatmentModel' is not defined",
     "output_type": "error",
     "traceback": [
      "\u001b[1;31m---------------------------------------------------------------------------\u001b[0m",
      "\u001b[1;31mNameError\u001b[0m                                 Traceback (most recent call last)",
      "\u001b[1;32m<ipython-input-21-6ba70009dca9>\u001b[0m in \u001b[0;36m<module>\u001b[1;34m()\u001b[0m\n\u001b[1;32m----> 1\u001b[1;33m \u001b[0meq\u001b[0m \u001b[1;33m=\u001b[0m \u001b[0mNoTreatmentModel\u001b[0m\u001b[1;33m(\u001b[0m\u001b[0mD\u001b[0m\u001b[1;33m=\u001b[0m\u001b[0mD\u001b[0m\u001b[1;33m,\u001b[0m \u001b[0mrho\u001b[0m\u001b[1;33m=\u001b[0m\u001b[0mRHO\u001b[0m\u001b[1;33m,\u001b[0m \u001b[0mK\u001b[0m\u001b[1;33m=\u001b[0m\u001b[0mK\u001b[0m\u001b[1;33m)\u001b[0m\u001b[1;33m\u001b[0m\u001b[0m\n\u001b[0m",
      "\u001b[1;31mNameError\u001b[0m: name 'NoTreatmentModel' is not defined"
     ]
    }
   ],
   "source": [
    "eq = NoTreatmentModel(D=D, rho=RHO, K=K)"
   ]
  },
  {
   "cell_type": "markdown",
   "metadata": {},
   "source": [
    "Let's take a closer look at an untreated patient. In order to perform the simulation, we need several assumptions:\n",
    "\n",
    "- we consider a tissue, which is a cube of size: $20\\,cm \\times 20\\,cm \\times 20\\,cm$,\n",
    "- for simulations we use a 3 dimensional Cartesian grid - each dimension having a size of 200. That means, every cell has a size of $1\\,mm \\times 1\\,mm \\times 1\\,mm$ and a volume of $1\\,mm^3$,\n",
    "- the death occurs when tumor reaches radius ($r$) of $30\\,mm$,\n",
    "- the detected neoplasm has a radius of $r = 1.5$ mm (initial value of $r$)."
   ]
  },
  {
   "cell_type": "code",
   "execution_count": null,
   "metadata": {},
   "outputs": [],
   "source": [
    "bound = 200\n",
    "grid = UnitGrid([bound, bound, bound])\n",
    "c = ScalarField(grid, 0)\n",
    "c.data[bound//2-2:bound//2+2, bound//2-2:bound//2+2, bound//2-2:bound//2+2] = N"
   ]
  },
  {
   "cell_type": "code",
   "execution_count": null,
   "metadata": {},
   "outputs": [],
   "source": [
    "storage = MemoryStorage()"
   ]
  },
  {
   "cell_type": "code",
   "execution_count": null,
   "metadata": {
    "scrolled": true
   },
   "outputs": [],
   "source": [
    "sol = eq.solve(c, t_range=T_MAX, dt=1e-1, tracker=[\"progress\", storage.tracker(1)])"
   ]
  },
  {
   "cell_type": "code",
   "execution_count": null,
   "metadata": {
    "scrolled": false
   },
   "outputs": [],
   "source": [
    "for dir_ in ['figs',\n",
    "             os.path.join('figs', 'pngs'),\n",
    "             os.path.join('figs', 'pngs', 'no_treatment'),\n",
    "             os.path.join('figs', 'pngs', 'radiation'),\n",
    "             os.path.join('figs', 'gifs')]:\n",
    "    create_dir_if_not_exists(dir_)\n",
    "    \n",
    "radius_dict = {}\n",
    "for i in range(0, T_MAX+1):\n",
    "    if i == 0:\n",
    "        ars = np.asarray((storage.data[i] >= c_1)).nonzero()\n",
    "    else:\n",
    "        ars = np.asarray((storage.data[i] <= 10*c_1) & (storage.data[i] >= c_1)).nonzero()\n",
    "    current_radius = compute_radius(ars[0])\n",
    "    radius_dict[i+1] = current_radius\n",
    "    fig = px.scatter_3d(x=ars[0], y=ars[1], z=ars[2], range_x=[0, bound], range_y=[0, bound], range_z=[0, bound],\n",
    "                       title=f'Tumor at time: {i+1} [months], radius: {current_radius} [mm]')\n",
    "    fig.write_image(os.path.join('figs', 'pngs', 'no_treatment', f'tumor_{i}.png'))"
   ]
  },
  {
   "cell_type": "markdown",
   "metadata": {},
   "source": [
    "The above 3-D simulation shows how our patient's brain tumor grows each month for 31 months since its detection. The radius of the tumor is given for each step. However, an important element is to consider the occurrence of death in assumption that tumor reaches radius of $30$ mm."
   ]
  },
  {
   "cell_type": "code",
   "execution_count": 5,
   "metadata": {},
   "outputs": [
    {
     "ename": "NameError",
     "evalue": "name 'radius_dict' is not defined",
     "output_type": "error",
     "traceback": [
      "\u001b[1;31m---------------------------------------------------------------------------\u001b[0m",
      "\u001b[1;31mNameError\u001b[0m                                 Traceback (most recent call last)",
      "\u001b[1;32m<ipython-input-5-3d9d04127c0a>\u001b[0m in \u001b[0;36m<module>\u001b[1;34m()\u001b[0m\n\u001b[1;32m----> 1\u001b[1;33m \u001b[0mdf\u001b[0m \u001b[1;33m=\u001b[0m \u001b[0mpd\u001b[0m\u001b[1;33m.\u001b[0m\u001b[0mSeries\u001b[0m\u001b[1;33m(\u001b[0m\u001b[0mradius_dict\u001b[0m\u001b[1;33m)\u001b[0m\u001b[1;33m.\u001b[0m\u001b[0mreset_index\u001b[0m\u001b[1;33m(\u001b[0m\u001b[1;33m)\u001b[0m\u001b[1;33m\u001b[0m\u001b[0m\n\u001b[0m\u001b[0;32m      2\u001b[0m \u001b[0mdf\u001b[0m\u001b[1;33m.\u001b[0m\u001b[0mcolumns\u001b[0m \u001b[1;33m=\u001b[0m \u001b[1;33m[\u001b[0m\u001b[1;34m'time'\u001b[0m\u001b[1;33m,\u001b[0m \u001b[1;34m'radius'\u001b[0m\u001b[1;33m]\u001b[0m\u001b[1;33m\u001b[0m\u001b[0m\n",
      "\u001b[1;31mNameError\u001b[0m: name 'radius_dict' is not defined"
     ]
    }
   ],
   "source": [
    "df = pd.Series(radius_dict).reset_index()\n",
    "df.columns = ['time', 'radius']"
   ]
  },
  {
   "cell_type": "markdown",
   "metadata": {},
   "source": [
    "Using the formula (4), one can implement the theoretical increase in tumor radius: "
   ]
  },
  {
   "cell_type": "code",
   "execution_count": 6,
   "metadata": {},
   "outputs": [
    {
     "ename": "NameError",
     "evalue": "name 'T_MAX' is not defined",
     "output_type": "error",
     "traceback": [
      "\u001b[1;31m---------------------------------------------------------------------------\u001b[0m",
      "\u001b[1;31mNameError\u001b[0m                                 Traceback (most recent call last)",
      "\u001b[1;32m<ipython-input-6-fd17733df094>\u001b[0m in \u001b[0;36m<module>\u001b[1;34m()\u001b[0m\n\u001b[1;32m----> 1\u001b[1;33m \u001b[0mt\u001b[0m \u001b[1;33m=\u001b[0m \u001b[0mnp\u001b[0m\u001b[1;33m.\u001b[0m\u001b[0marange\u001b[0m\u001b[1;33m(\u001b[0m\u001b[1;36m1\u001b[0m\u001b[1;33m,\u001b[0m \u001b[0mT_MAX\u001b[0m\u001b[1;33m+\u001b[0m\u001b[1;36m1\u001b[0m\u001b[1;33m,\u001b[0m \u001b[1;36m1\u001b[0m\u001b[1;33m)\u001b[0m\u001b[1;33m\u001b[0m\u001b[0m\n\u001b[0m\u001b[0;32m      2\u001b[0m \u001b[0mtheoretical\u001b[0m \u001b[1;33m=\u001b[0m \u001b[1;36m2\u001b[0m\u001b[1;33m*\u001b[0m\u001b[0mt\u001b[0m\u001b[1;33m*\u001b[0m\u001b[0mnp\u001b[0m\u001b[1;33m.\u001b[0m\u001b[0msqrt\u001b[0m\u001b[1;33m(\u001b[0m\u001b[0mRHO\u001b[0m\u001b[1;33m*\u001b[0m\u001b[0mD\u001b[0m\u001b[1;33m)\u001b[0m\u001b[1;33m*\u001b[0m\u001b[0mnp\u001b[0m\u001b[1;33m.\u001b[0m\u001b[0msqrt\u001b[0m\u001b[1;33m(\u001b[0m\u001b[1;36m1\u001b[0m\u001b[1;33m-\u001b[0m\u001b[1;33m(\u001b[0m\u001b[1;36m1\u001b[0m\u001b[1;33m/\u001b[0m\u001b[1;33m(\u001b[0m\u001b[0mRHO\u001b[0m\u001b[1;33m*\u001b[0m\u001b[0mt\u001b[0m\u001b[1;33m)\u001b[0m\u001b[1;33m)\u001b[0m\u001b[1;33m*\u001b[0m\u001b[0mnp\u001b[0m\u001b[1;33m.\u001b[0m\u001b[0mlog\u001b[0m\u001b[1;33m(\u001b[0m\u001b[1;33m(\u001b[0m\u001b[0mc_1\u001b[0m\u001b[1;33m/\u001b[0m\u001b[0mN\u001b[0m\u001b[1;33m)\u001b[0m\u001b[1;33m*\u001b[0m\u001b[1;33m(\u001b[0m\u001b[1;36m4\u001b[0m\u001b[1;33m*\u001b[0m\u001b[0mnp\u001b[0m\u001b[1;33m.\u001b[0m\u001b[0mpi\u001b[0m\u001b[1;33m*\u001b[0m\u001b[0mD\u001b[0m\u001b[1;33m*\u001b[0m\u001b[0mt\u001b[0m\u001b[1;33m)\u001b[0m\u001b[1;33m**\u001b[0m\u001b[1;36m1.5\u001b[0m\u001b[1;33m)\u001b[0m\u001b[1;33m)\u001b[0m\u001b[1;33m\u001b[0m\u001b[0m\n\u001b[0;32m      3\u001b[0m \u001b[0mtheoretical_1\u001b[0m \u001b[1;33m=\u001b[0m \u001b[1;36m2\u001b[0m\u001b[1;33m*\u001b[0m\u001b[0mt\u001b[0m\u001b[1;33m*\u001b[0m\u001b[0mnp\u001b[0m\u001b[1;33m.\u001b[0m\u001b[0msqrt\u001b[0m\u001b[1;33m(\u001b[0m\u001b[0mRHO\u001b[0m\u001b[1;33m*\u001b[0m\u001b[0mD\u001b[0m\u001b[1;33m)\u001b[0m\u001b[1;33m\u001b[0m\u001b[0m\n",
      "\u001b[1;31mNameError\u001b[0m: name 'T_MAX' is not defined"
     ]
    }
   ],
   "source": [
    "t = np.arange(1, T_MAX+1, 1)\n",
    "theoretical = 2*t*np.sqrt(RHO*D)*np.sqrt(1-(1/(RHO*t))*np.log((c_1/N)*(4*np.pi*D*t)**1.5))\n",
    "theoretical_1 = 2*t*np.sqrt(RHO*D)"
   ]
  },
  {
   "cell_type": "markdown",
   "metadata": {},
   "source": [
    "Then, calculate the remaining time to death."
   ]
  },
  {
   "cell_type": "code",
   "execution_count": 7,
   "metadata": {},
   "outputs": [
    {
     "ename": "NameError",
     "evalue": "name 'optimize' is not defined",
     "output_type": "error",
     "traceback": [
      "\u001b[1;31m---------------------------------------------------------------------------\u001b[0m",
      "\u001b[1;31mNameError\u001b[0m                                 Traceback (most recent call last)",
      "\u001b[1;32m<ipython-input-7-6eb988efb677>\u001b[0m in \u001b[0;36m<module>\u001b[1;34m()\u001b[0m\n\u001b[0;32m      2\u001b[0m     \u001b[1;32mreturn\u001b[0m \u001b[1;36m2\u001b[0m\u001b[1;33m*\u001b[0m\u001b[0mt\u001b[0m\u001b[1;33m*\u001b[0m\u001b[0mnp\u001b[0m\u001b[1;33m.\u001b[0m\u001b[0msqrt\u001b[0m\u001b[1;33m(\u001b[0m\u001b[0mD\u001b[0m\u001b[1;33m*\u001b[0m\u001b[0mRHO\u001b[0m\u001b[1;33m)\u001b[0m\u001b[1;33m*\u001b[0m\u001b[0mnp\u001b[0m\u001b[1;33m.\u001b[0m\u001b[0msqrt\u001b[0m\u001b[1;33m(\u001b[0m\u001b[1;36m1\u001b[0m\u001b[1;33m-\u001b[0m\u001b[1;33m(\u001b[0m\u001b[1;36m1\u001b[0m\u001b[1;33m/\u001b[0m\u001b[1;33m(\u001b[0m\u001b[0mRHO\u001b[0m\u001b[1;33m*\u001b[0m\u001b[0mt\u001b[0m\u001b[1;33m)\u001b[0m\u001b[1;33m)\u001b[0m\u001b[1;33m*\u001b[0m\u001b[0mnp\u001b[0m\u001b[1;33m.\u001b[0m\u001b[0mlog\u001b[0m\u001b[1;33m(\u001b[0m\u001b[1;33m(\u001b[0m\u001b[0mc_1\u001b[0m\u001b[1;33m/\u001b[0m\u001b[0mN\u001b[0m\u001b[1;33m)\u001b[0m\u001b[1;33m*\u001b[0m\u001b[1;33m(\u001b[0m\u001b[1;36m4\u001b[0m\u001b[1;33m*\u001b[0m\u001b[0mnp\u001b[0m\u001b[1;33m.\u001b[0m\u001b[0mpi\u001b[0m\u001b[1;33m*\u001b[0m\u001b[0mD\u001b[0m\u001b[1;33m*\u001b[0m\u001b[0mt\u001b[0m\u001b[1;33m)\u001b[0m\u001b[1;33m**\u001b[0m\u001b[1;36m1.5\u001b[0m\u001b[1;33m)\u001b[0m\u001b[1;33m)\u001b[0m \u001b[1;33m-\u001b[0m \u001b[1;36m30\u001b[0m\u001b[1;33m\u001b[0m\u001b[0m\n\u001b[0;32m      3\u001b[0m \u001b[1;33m\u001b[0m\u001b[0m\n\u001b[1;32m----> 4\u001b[1;33m \u001b[0msol\u001b[0m \u001b[1;33m=\u001b[0m \u001b[0moptimize\u001b[0m\u001b[1;33m.\u001b[0m\u001b[0mroot_scalar\u001b[0m\u001b[1;33m(\u001b[0m\u001b[0mf\u001b[0m\u001b[1;33m,\u001b[0m \u001b[0margs\u001b[0m\u001b[1;33m=\u001b[0m\u001b[1;33m(\u001b[0m\u001b[0mD\u001b[0m\u001b[1;33m,\u001b[0m \u001b[0mRHO\u001b[0m\u001b[1;33m,\u001b[0m \u001b[0mc_1\u001b[0m\u001b[1;33m,\u001b[0m \u001b[0mN\u001b[0m\u001b[1;33m)\u001b[0m\u001b[1;33m,\u001b[0m \u001b[0mbracket\u001b[0m\u001b[1;33m=\u001b[0m\u001b[1;33m[\u001b[0m\u001b[1;36m14\u001b[0m\u001b[1;33m,\u001b[0m \u001b[1;36m18\u001b[0m\u001b[1;33m]\u001b[0m\u001b[1;33m,\u001b[0m \u001b[0mmethod\u001b[0m\u001b[1;33m=\u001b[0m\u001b[1;34m'brentq'\u001b[0m\u001b[1;33m)\u001b[0m\u001b[1;33m\u001b[0m\u001b[0m\n\u001b[0m\u001b[0;32m      5\u001b[0m \u001b[0mtime_of_death\u001b[0m \u001b[1;33m=\u001b[0m \u001b[0msol\u001b[0m\u001b[1;33m.\u001b[0m\u001b[0mroot\u001b[0m\u001b[1;33m\u001b[0m\u001b[0m\n\u001b[0;32m      6\u001b[0m \u001b[0mprint\u001b[0m\u001b[1;33m(\u001b[0m\u001b[1;34mf'Time of death [months]: {time_of_death}'\u001b[0m\u001b[1;33m)\u001b[0m\u001b[1;33m\u001b[0m\u001b[0m\n",
      "\u001b[1;31mNameError\u001b[0m: name 'optimize' is not defined"
     ]
    }
   ],
   "source": [
    "def f(t, D, RHO, c_1, N):\n",
    "    return 2*t*np.sqrt(D*RHO)*np.sqrt(1-(1/(RHO*t))*np.log((c_1/N)*(4*np.pi*D*t)**1.5)) - 30\n",
    "\n",
    "sol = optimize.root_scalar(f, args=(D, RHO, c_1, N), bracket=[14, 18], method='brentq')\n",
    "time_of_death = sol.root\n",
    "print(f'Time of death [months]: {time_of_death}')"
   ]
  },
  {
   "cell_type": "markdown",
   "metadata": {},
   "source": [
    "Now, we see that if a patient is found to have a tumor with a radius of 1.5 mm and no treatment is given, he will most likely die in a year and $4$ months.\n",
    "The plot below represents comparison of tumor growth by theoretical and simulation methods. Red dotted line represents value of radius at which death occures and red dot shows time of death. We can see that the visualization of the tumor radius growth simulation is close to theoretical (linear function)."
   ]
  },
  {
   "cell_type": "code",
   "execution_count": 8,
   "metadata": {
    "scrolled": false
   },
   "outputs": [
    {
     "ename": "NameError",
     "evalue": "name 'df' is not defined",
     "output_type": "error",
     "traceback": [
      "\u001b[1;31m---------------------------------------------------------------------------\u001b[0m",
      "\u001b[1;31mNameError\u001b[0m                                 Traceback (most recent call last)",
      "\u001b[1;32m<ipython-input-8-bd3c52e924e8>\u001b[0m in \u001b[0;36m<module>\u001b[1;34m()\u001b[0m\n\u001b[0;32m      1\u001b[0m \u001b[0mplt\u001b[0m\u001b[1;33m.\u001b[0m\u001b[0mfigure\u001b[0m\u001b[1;33m(\u001b[0m\u001b[0mfigsize\u001b[0m\u001b[1;33m=\u001b[0m\u001b[1;33m(\u001b[0m\u001b[1;36m12\u001b[0m\u001b[1;33m,\u001b[0m\u001b[1;36m8\u001b[0m\u001b[1;33m)\u001b[0m\u001b[1;33m)\u001b[0m\u001b[1;33m\u001b[0m\u001b[0m\n\u001b[1;32m----> 2\u001b[1;33m \u001b[0mplt\u001b[0m\u001b[1;33m.\u001b[0m\u001b[0mplot\u001b[0m\u001b[1;33m(\u001b[0m\u001b[0mdf\u001b[0m\u001b[1;33m[\u001b[0m\u001b[1;34m'time'\u001b[0m\u001b[1;33m]\u001b[0m\u001b[1;33m.\u001b[0m\u001b[0mto_list\u001b[0m\u001b[1;33m(\u001b[0m\u001b[1;33m)\u001b[0m\u001b[1;33m,\u001b[0m \u001b[0mdf\u001b[0m\u001b[1;33m[\u001b[0m\u001b[1;34m'radius'\u001b[0m\u001b[1;33m]\u001b[0m\u001b[1;33m.\u001b[0m\u001b[0mto_list\u001b[0m\u001b[1;33m(\u001b[0m\u001b[1;33m)\u001b[0m\u001b[1;33m,\u001b[0m \u001b[0mlabel\u001b[0m\u001b[1;33m=\u001b[0m\u001b[1;34m'Simulation'\u001b[0m\u001b[1;33m)\u001b[0m\u001b[1;33m\u001b[0m\u001b[0m\n\u001b[0m\u001b[0;32m      3\u001b[0m \u001b[0mplt\u001b[0m\u001b[1;33m.\u001b[0m\u001b[0mplot\u001b[0m\u001b[1;33m(\u001b[0m\u001b[0mt\u001b[0m\u001b[1;33m,\u001b[0m \u001b[0mtheoretical\u001b[0m\u001b[1;33m,\u001b[0m \u001b[0mlabel\u001b[0m\u001b[1;33m=\u001b[0m\u001b[1;34mr'Theoretical: $2t\\sqrt{D\\rho}\\sqrt{1-\\frac{1}{\\rho t}\\log\\left(\\frac{c_1}{N} (4\\pi Dt)^{1.5}\\right)}$'\u001b[0m\u001b[1;33m)\u001b[0m\u001b[1;33m\u001b[0m\u001b[0m\n\u001b[0;32m      4\u001b[0m \u001b[0mplt\u001b[0m\u001b[1;33m.\u001b[0m\u001b[0mscatter\u001b[0m\u001b[1;33m(\u001b[0m\u001b[0mtime_of_death\u001b[0m\u001b[1;33m,\u001b[0m \u001b[1;36m30\u001b[0m\u001b[1;33m,\u001b[0m \u001b[0ms\u001b[0m\u001b[1;33m=\u001b[0m\u001b[1;36m100\u001b[0m\u001b[1;33m,\u001b[0m \u001b[0mc\u001b[0m\u001b[1;33m=\u001b[0m\u001b[1;34m'red'\u001b[0m\u001b[1;33m,\u001b[0m \u001b[0mlabel\u001b[0m\u001b[1;33m=\u001b[0m\u001b[1;34mf'Time of death = {round(time_of_death, 2)}'\u001b[0m\u001b[1;33m)\u001b[0m\u001b[1;33m\u001b[0m\u001b[0m\n\u001b[0;32m      5\u001b[0m \u001b[0mplt\u001b[0m\u001b[1;33m.\u001b[0m\u001b[0mhlines\u001b[0m\u001b[1;33m(\u001b[0m\u001b[1;36m30\u001b[0m\u001b[1;33m,\u001b[0m \u001b[1;36m0\u001b[0m\u001b[1;33m,\u001b[0m \u001b[1;36m30\u001b[0m\u001b[1;33m,\u001b[0m \u001b[0mcolors\u001b[0m\u001b[1;33m=\u001b[0m\u001b[1;34m'red'\u001b[0m\u001b[1;33m,\u001b[0m \u001b[0mlinestyles\u001b[0m\u001b[1;33m=\u001b[0m\u001b[1;34m'--'\u001b[0m\u001b[1;33m,\u001b[0m \u001b[0mlabel\u001b[0m\u001b[1;33m=\u001b[0m\u001b[1;34m'Radius at which death occurs'\u001b[0m\u001b[1;33m)\u001b[0m\u001b[1;33m\u001b[0m\u001b[0m\n",
      "\u001b[1;31mNameError\u001b[0m: name 'df' is not defined"
     ]
    },
    {
     "data": {
      "text/plain": [
       "<Figure size 864x576 with 0 Axes>"
      ]
     },
     "metadata": {},
     "output_type": "display_data"
    }
   ],
   "source": [
    "plt.figure(figsize=(12,8))\n",
    "plt.plot(df['time'].to_list(), df['radius'].to_list(), label='Simulation')\n",
    "plt.plot(t, theoretical, label=r'Theoretical: $2t\\sqrt{D\\rho}\\sqrt{1-\\frac{1}{\\rho t}\\log\\left(\\frac{c_1}{N} (4\\pi Dt)^{1.5}\\right)}$')\n",
    "plt.scatter(time_of_death, 30, s=100, c='red', label=f'Time of death = {round(time_of_death, 2)}')\n",
    "plt.hlines(30, 0, 30, colors='red', linestyles='--', label='Radius at which death occurs')\n",
    "plt.legend(fontsize=14)\n",
    "plt.title('Tumor growth without any treatment', fontdict={'size': 22})\n",
    "plt.xlabel('Time [months]', fontdict={'size': 16})\n",
    "plt.ylabel(r'Radius [mm]', fontdict={'size': 16})\n",
    "plt.tick_params(axis='both', which='major', labelsize=14)\n",
    "plt.savefig(os.path.join('figs', 'pngs', 'no_treatment_growth.png'))\n",
    "plt.show()"
   ]
  },
  {
   "cell_type": "markdown",
   "metadata": {},
   "source": [
    "**Warning:** This line might work only on Linux OS (gif creation)"
   ]
  },
  {
   "cell_type": "code",
   "execution_count": 9,
   "metadata": {},
   "outputs": [
    {
     "name": "stderr",
     "output_type": "stream",
     "text": [
      "Invalid Parameter - 25\n"
     ]
    }
   ],
   "source": [
    "!convert -delay 25 -loop 0 `ls -v figs/pngs/no_treatment/*.png` figs/gifs/no-treatment.gif"
   ]
  },
  {
   "cell_type": "markdown",
   "metadata": {},
   "source": [
    "But the gif image is saved in the repository, so running this line should be possible"
   ]
  },
  {
   "cell_type": "code",
   "execution_count": 10,
   "metadata": {},
   "outputs": [
    {
     "ename": "NameError",
     "evalue": "name 'Image' is not defined",
     "output_type": "error",
     "traceback": [
      "\u001b[1;31m---------------------------------------------------------------------------\u001b[0m",
      "\u001b[1;31mNameError\u001b[0m                                 Traceback (most recent call last)",
      "\u001b[1;32m<ipython-input-10-c9575f017585>\u001b[0m in \u001b[0;36m<module>\u001b[1;34m()\u001b[0m\n\u001b[1;32m----> 1\u001b[1;33m \u001b[0mImage\u001b[0m\u001b[1;33m(\u001b[0m\u001b[0murl\u001b[0m\u001b[1;33m=\u001b[0m\u001b[0mos\u001b[0m\u001b[1;33m.\u001b[0m\u001b[0mpath\u001b[0m\u001b[1;33m.\u001b[0m\u001b[0mjoin\u001b[0m\u001b[1;33m(\u001b[0m\u001b[1;34m'figs'\u001b[0m\u001b[1;33m,\u001b[0m \u001b[1;34m'gifs'\u001b[0m\u001b[1;33m,\u001b[0m \u001b[1;34m'no-treatment.gif'\u001b[0m\u001b[1;33m)\u001b[0m\u001b[1;33m)\u001b[0m\u001b[1;33m\u001b[0m\u001b[0m\n\u001b[0m",
      "\u001b[1;31mNameError\u001b[0m: name 'Image' is not defined"
     ]
    }
   ],
   "source": [
    "Image(url=os.path.join('figs', 'gifs', 'no-treatment.gif'))  "
   ]
  },
  {
   "cell_type": "markdown",
   "metadata": {},
   "source": [
    "## Radiation Therapy Model"
   ]
  },
  {
   "cell_type": "markdown",
   "metadata": {},
   "source": [
    "Let's focus on the more positive case where treatment was started after a tumor was detected. The best form of treatment for our patient is radiotherapy. \n",
    "\n",
    "Prediction of radiobiological response is a major challenge in radiotherapy. Of several radiobiological models, the linear-quadratic (LQ) model has been best validated by experimental and clinical data. Clinically, the LQ model is increasly used to  predict tumour control probability (TCP) and normal tissue complication probability (NTCP) using logistic models. The selection of accurate LQ parameters $\\alpha$, $\\beta$  is pivotal for a reliable estimate of radiation response. (odnośnik to pierwszego art. z radio) The linear-quadratic (LQ) model has been best validated by experimental and clinical data, and its conceptual simplicity added to its present popularity in radiotherapy practice, for instance to address clinical problems such as compensation for missed treatment days, comparison of different treatment schemes, and the design of novel treatment schedules in clinical trials (2–4wrzucone na dole).\n",
    "\n",
    "The basic LQ model describes the surviving fraction SF of clonogenic or stem cells as a function of radiation dose $D^*$:"
   ]
  },
  {
   "cell_type": "markdown",
   "metadata": {},
   "source": [
    "\\begin{equation*}\n",
    " SF(D)=e^{-\\alpha \\cdot D-\\beta \\cdot \\left(D^*\\right)^2}.\n",
    "\\label{SF} \\tag{6}\n",
    "\\end{equation*}"
   ]
  },
  {
   "cell_type": "markdown",
   "metadata": {},
   "source": [
    "Now, the growth equation takes the form:"
   ]
  },
  {
   "cell_type": "markdown",
   "metadata": {},
   "source": [
    "\\begin{equation*}\n",
    "\\frac{\\partial c}{\\partial t} = D\\nabla^2 c + \\rho c-(1-SF(D))c\n",
    "\\label{dct} \\tag{7}\n",
    "\\end{equation*}"
   ]
  },
  {
   "cell_type": "markdown",
   "metadata": {},
   "source": [
    "The main parameters of this model, α and β, represent the intrinsic radiosensitivity of the irradiated cells: cells with a higher α and β are more sensitive to radiation. The ratio of the two parameters, $\\frac{\\alpha}{\\beta}$, is a measure of the fractionation sensitivity of the cells: cells with a higher $\\frac{\\alpha}{\\beta}$, are less sensitive to the sparing effect of fractionation.  The estimation of radiotherapeutic outcome, and therapeutic window strongly depends on a reliable estimation of LQ parameters $\\alpha$, $\\beta$ and $\\frac{\\alpha}{\\beta}$. It is important that values of these parameters mainly depend on tumour site and histology. Numerous studies have been carried out of various type of glioma and generally found intermediate $\\frac{\\alpha}{\\beta}$ values, typically $5–10$ Gy (8, 18, 32 - na brudno na dole). Estimates for $\\alpha$ were mostly in the range of $0.02–0.2$ $\\text{Gy}^{− 1}$ and no striking differences were found between tumour sites. Whereas estimates of $\\beta$ vary from $0.001–0.06$ $\\text{Gy}^{− 2}$."
   ]
  },
  {
   "cell_type": "code",
   "execution_count": 11,
   "metadata": {},
   "outputs": [
    {
     "ename": "NameError",
     "evalue": "name 'PDEBase' is not defined",
     "output_type": "error",
     "traceback": [
      "\u001b[1;31m---------------------------------------------------------------------------\u001b[0m",
      "\u001b[1;31mNameError\u001b[0m                                 Traceback (most recent call last)",
      "\u001b[1;32m<ipython-input-11-3ffa437414c4>\u001b[0m in \u001b[0;36m<module>\u001b[1;34m()\u001b[0m\n\u001b[1;32m----> 1\u001b[1;33m \u001b[1;32mclass\u001b[0m \u001b[0mRadiationTherapyModel\u001b[0m\u001b[1;33m(\u001b[0m\u001b[0mPDEBase\u001b[0m\u001b[1;33m)\u001b[0m\u001b[1;33m:\u001b[0m\u001b[1;33m\u001b[0m\u001b[0m\n\u001b[0m\u001b[0;32m      2\u001b[0m \u001b[1;33m\u001b[0m\u001b[0m\n\u001b[0;32m      3\u001b[0m     \u001b[1;32mdef\u001b[0m \u001b[0m__init__\u001b[0m\u001b[1;33m(\u001b[0m\u001b[0mself\u001b[0m\u001b[1;33m,\u001b[0m \u001b[0mD\u001b[0m\u001b[1;33m,\u001b[0m \u001b[0mrho\u001b[0m\u001b[1;33m,\u001b[0m \u001b[0mtherapy_time\u001b[0m\u001b[1;33m,\u001b[0m \u001b[0malpha\u001b[0m\u001b[1;33m,\u001b[0m \u001b[0mbeta\u001b[0m\u001b[1;33m,\u001b[0m \u001b[0mdose\u001b[0m\u001b[1;33m,\u001b[0m \u001b[0mbc\u001b[0m\u001b[1;33m=\u001b[0m\u001b[1;34m\"natural\"\u001b[0m\u001b[1;33m)\u001b[0m\u001b[1;33m:\u001b[0m\u001b[1;33m\u001b[0m\u001b[0m\n\u001b[0;32m      4\u001b[0m         \u001b[0mself\u001b[0m\u001b[1;33m.\u001b[0m\u001b[0mD\u001b[0m \u001b[1;33m=\u001b[0m \u001b[0mD\u001b[0m\u001b[1;33m\u001b[0m\u001b[0m\n\u001b[0;32m      5\u001b[0m         \u001b[0mself\u001b[0m\u001b[1;33m.\u001b[0m\u001b[0mrho\u001b[0m \u001b[1;33m=\u001b[0m \u001b[0mrho\u001b[0m\u001b[1;33m\u001b[0m\u001b[0m\n",
      "\u001b[1;31mNameError\u001b[0m: name 'PDEBase' is not defined"
     ]
    }
   ],
   "source": [
    "class RadiationTherapyModel(PDEBase):\n",
    "    \n",
    "    def __init__(self, D, rho, therapy_time, alpha, beta, dose, bc=\"natural\"):\n",
    "        self.D = D\n",
    "        self.rho = rho\n",
    "        self.bc = bc\n",
    "        self.therapy_start = therapy_time[0]\n",
    "        self.therapy_end = therapy_time[1]\n",
    "        self.alpha = alpha\n",
    "        self.beta = beta\n",
    "        self.dose = dose\n",
    "        \n",
    "    def evolution_rate(self, state, t=0):\n",
    "        c = state\n",
    "        if t>=self.therapy_start and t<=self.therapy_end:\n",
    "            R = 1 - np.exp(-(self.alpha*self.dose + self.beta*self.dose**2))\n",
    "        else:\n",
    "            R = 0\n",
    "        print(R)\n",
    "        dc_dt = self.D * c.laplace(self.bc) + self.rho*c - R*c  #*(1-c/self.K)\n",
    "        return dc_dt\n",
    "    "
   ]
  },
  {
   "cell_type": "code",
   "execution_count": 12,
   "metadata": {},
   "outputs": [],
   "source": [
    "D = 0.9\n",
    "RHO = 1.16\n",
    "K = 1\n",
    "c_1 = 80  # smallest level of detection\n",
    "N = 8000\n",
    "T_MAX = 30\n",
    "THERAPY_TIME = [3, 100]\n",
    "ALPHA = 0.7\n",
    "BETA = 0.1\n",
    "DOSE = 10"
   ]
  },
  {
   "cell_type": "code",
   "execution_count": 13,
   "metadata": {},
   "outputs": [
    {
     "ename": "NameError",
     "evalue": "name 'RadiationTherapyModel' is not defined",
     "output_type": "error",
     "traceback": [
      "\u001b[1;31m---------------------------------------------------------------------------\u001b[0m",
      "\u001b[1;31mNameError\u001b[0m                                 Traceback (most recent call last)",
      "\u001b[1;32m<ipython-input-13-d2b93f7d3dfb>\u001b[0m in \u001b[0;36m<module>\u001b[1;34m()\u001b[0m\n\u001b[1;32m----> 1\u001b[1;33m \u001b[0meq\u001b[0m \u001b[1;33m=\u001b[0m \u001b[0mRadiationTherapyModel\u001b[0m\u001b[1;33m(\u001b[0m\u001b[0mD\u001b[0m\u001b[1;33m,\u001b[0m \u001b[0mRHO\u001b[0m\u001b[1;33m,\u001b[0m \u001b[0mTHERAPY_TIME\u001b[0m\u001b[1;33m,\u001b[0m \u001b[0mALPHA\u001b[0m\u001b[1;33m,\u001b[0m \u001b[0mBETA\u001b[0m\u001b[1;33m,\u001b[0m \u001b[0mDOSE\u001b[0m\u001b[1;33m)\u001b[0m\u001b[1;33m\u001b[0m\u001b[0m\n\u001b[0m\u001b[0;32m      2\u001b[0m \u001b[0mbound\u001b[0m \u001b[1;33m=\u001b[0m \u001b[1;36m200\u001b[0m\u001b[1;33m\u001b[0m\u001b[0m\n\u001b[0;32m      3\u001b[0m \u001b[0mgrid\u001b[0m \u001b[1;33m=\u001b[0m \u001b[0mUnitGrid\u001b[0m\u001b[1;33m(\u001b[0m\u001b[1;33m[\u001b[0m\u001b[0mbound\u001b[0m\u001b[1;33m,\u001b[0m \u001b[0mbound\u001b[0m\u001b[1;33m,\u001b[0m \u001b[0mbound\u001b[0m\u001b[1;33m]\u001b[0m\u001b[1;33m)\u001b[0m\u001b[1;33m\u001b[0m\u001b[0m\n\u001b[0;32m      4\u001b[0m \u001b[0mc\u001b[0m \u001b[1;33m=\u001b[0m \u001b[0mScalarField\u001b[0m\u001b[1;33m(\u001b[0m\u001b[0mgrid\u001b[0m\u001b[1;33m,\u001b[0m \u001b[1;36m0\u001b[0m\u001b[1;33m)\u001b[0m\u001b[1;33m\u001b[0m\u001b[0m\n\u001b[0;32m      5\u001b[0m \u001b[0mc\u001b[0m\u001b[1;33m.\u001b[0m\u001b[0mdata\u001b[0m\u001b[1;33m[\u001b[0m\u001b[0mbound\u001b[0m\u001b[1;33m//\u001b[0m\u001b[1;36m2\u001b[0m\u001b[1;33m-\u001b[0m\u001b[1;36m2\u001b[0m\u001b[1;33m:\u001b[0m\u001b[0mbound\u001b[0m\u001b[1;33m//\u001b[0m\u001b[1;36m2\u001b[0m\u001b[1;33m+\u001b[0m\u001b[1;36m2\u001b[0m\u001b[1;33m,\u001b[0m \u001b[0mbound\u001b[0m\u001b[1;33m//\u001b[0m\u001b[1;36m2\u001b[0m\u001b[1;33m-\u001b[0m\u001b[1;36m2\u001b[0m\u001b[1;33m:\u001b[0m\u001b[0mbound\u001b[0m\u001b[1;33m//\u001b[0m\u001b[1;36m2\u001b[0m\u001b[1;33m+\u001b[0m\u001b[1;36m2\u001b[0m\u001b[1;33m,\u001b[0m \u001b[0mbound\u001b[0m\u001b[1;33m//\u001b[0m\u001b[1;36m2\u001b[0m\u001b[1;33m-\u001b[0m\u001b[1;36m2\u001b[0m\u001b[1;33m:\u001b[0m\u001b[0mbound\u001b[0m\u001b[1;33m//\u001b[0m\u001b[1;36m2\u001b[0m\u001b[1;33m+\u001b[0m\u001b[1;36m2\u001b[0m\u001b[1;33m]\u001b[0m \u001b[1;33m=\u001b[0m \u001b[0mN\u001b[0m\u001b[1;33m\u001b[0m\u001b[0m\n",
      "\u001b[1;31mNameError\u001b[0m: name 'RadiationTherapyModel' is not defined"
     ]
    }
   ],
   "source": [
    "eq = RadiationTherapyModel(D, RHO, THERAPY_TIME, ALPHA, BETA, DOSE)\n",
    "bound = 200\n",
    "grid = UnitGrid([bound, bound, bound])\n",
    "c = ScalarField(grid, 0)\n",
    "c.data[bound//2-2:bound//2+2, bound//2-2:bound//2+2, bound//2-2:bound//2+2] = N"
   ]
  },
  {
   "cell_type": "code",
   "execution_count": 14,
   "metadata": {},
   "outputs": [
    {
     "ename": "NameError",
     "evalue": "name 'MemoryStorage' is not defined",
     "output_type": "error",
     "traceback": [
      "\u001b[1;31m---------------------------------------------------------------------------\u001b[0m",
      "\u001b[1;31mNameError\u001b[0m                                 Traceback (most recent call last)",
      "\u001b[1;32m<ipython-input-14-1d3d74b3912c>\u001b[0m in \u001b[0;36m<module>\u001b[1;34m()\u001b[0m\n\u001b[1;32m----> 1\u001b[1;33m \u001b[0mstorage\u001b[0m \u001b[1;33m=\u001b[0m \u001b[0mMemoryStorage\u001b[0m\u001b[1;33m(\u001b[0m\u001b[1;33m)\u001b[0m\u001b[1;33m\u001b[0m\u001b[0m\n\u001b[0m\u001b[0;32m      2\u001b[0m \u001b[0msol\u001b[0m \u001b[1;33m=\u001b[0m \u001b[0meq\u001b[0m\u001b[1;33m.\u001b[0m\u001b[0msolve\u001b[0m\u001b[1;33m(\u001b[0m\u001b[0mc\u001b[0m\u001b[1;33m,\u001b[0m \u001b[0mt_range\u001b[0m\u001b[1;33m=\u001b[0m\u001b[0mT_MAX\u001b[0m\u001b[1;33m,\u001b[0m \u001b[0mdt\u001b[0m\u001b[1;33m=\u001b[0m\u001b[1;36m1e-1\u001b[0m\u001b[1;33m,\u001b[0m \u001b[0mtracker\u001b[0m\u001b[1;33m=\u001b[0m\u001b[1;33m[\u001b[0m\u001b[1;34m\"progress\"\u001b[0m\u001b[1;33m,\u001b[0m \u001b[0mstorage\u001b[0m\u001b[1;33m.\u001b[0m\u001b[0mtracker\u001b[0m\u001b[1;33m(\u001b[0m\u001b[1;36m1\u001b[0m\u001b[1;33m)\u001b[0m\u001b[1;33m]\u001b[0m\u001b[1;33m)\u001b[0m\u001b[1;33m\u001b[0m\u001b[0m\n",
      "\u001b[1;31mNameError\u001b[0m: name 'MemoryStorage' is not defined"
     ]
    }
   ],
   "source": [
    "storage = MemoryStorage()\n",
    "sol = eq.solve(c, t_range=T_MAX, dt=1e-1, tracker=[\"progress\", storage.tracker(1)])"
   ]
  },
  {
   "cell_type": "code",
   "execution_count": 15,
   "metadata": {},
   "outputs": [
    {
     "ename": "NameError",
     "evalue": "name 'storage' is not defined",
     "output_type": "error",
     "traceback": [
      "\u001b[1;31m---------------------------------------------------------------------------\u001b[0m",
      "\u001b[1;31mNameError\u001b[0m                                 Traceback (most recent call last)",
      "\u001b[1;32m<ipython-input-15-bcb8541204b4>\u001b[0m in \u001b[0;36m<module>\u001b[1;34m()\u001b[0m\n\u001b[0;32m      2\u001b[0m \u001b[1;32mfor\u001b[0m \u001b[0mi\u001b[0m \u001b[1;32min\u001b[0m \u001b[0mrange\u001b[0m\u001b[1;33m(\u001b[0m\u001b[1;36m0\u001b[0m\u001b[1;33m,\u001b[0m \u001b[0mT_MAX\u001b[0m\u001b[1;33m+\u001b[0m\u001b[1;36m1\u001b[0m\u001b[1;33m)\u001b[0m\u001b[1;33m:\u001b[0m\u001b[1;33m\u001b[0m\u001b[0m\n\u001b[0;32m      3\u001b[0m     \u001b[1;32mif\u001b[0m \u001b[0mi\u001b[0m \u001b[1;33m==\u001b[0m \u001b[1;36m0\u001b[0m\u001b[1;33m:\u001b[0m\u001b[1;33m\u001b[0m\u001b[0m\n\u001b[1;32m----> 4\u001b[1;33m         \u001b[0mars\u001b[0m \u001b[1;33m=\u001b[0m \u001b[0mnp\u001b[0m\u001b[1;33m.\u001b[0m\u001b[0masarray\u001b[0m\u001b[1;33m(\u001b[0m\u001b[1;33m(\u001b[0m\u001b[0mstorage\u001b[0m\u001b[1;33m.\u001b[0m\u001b[0mdata\u001b[0m\u001b[1;33m[\u001b[0m\u001b[0mi\u001b[0m\u001b[1;33m]\u001b[0m \u001b[1;33m>=\u001b[0m \u001b[0mc_1\u001b[0m\u001b[1;33m)\u001b[0m\u001b[1;33m)\u001b[0m\u001b[1;33m.\u001b[0m\u001b[0mnonzero\u001b[0m\u001b[1;33m(\u001b[0m\u001b[1;33m)\u001b[0m\u001b[1;33m\u001b[0m\u001b[0m\n\u001b[0m\u001b[0;32m      5\u001b[0m     \u001b[1;32melse\u001b[0m\u001b[1;33m:\u001b[0m\u001b[1;33m\u001b[0m\u001b[0m\n\u001b[0;32m      6\u001b[0m         \u001b[0mars\u001b[0m \u001b[1;33m=\u001b[0m \u001b[0mnp\u001b[0m\u001b[1;33m.\u001b[0m\u001b[0masarray\u001b[0m\u001b[1;33m(\u001b[0m\u001b[1;33m(\u001b[0m\u001b[0mstorage\u001b[0m\u001b[1;33m.\u001b[0m\u001b[0mdata\u001b[0m\u001b[1;33m[\u001b[0m\u001b[0mi\u001b[0m\u001b[1;33m]\u001b[0m \u001b[1;33m<=\u001b[0m \u001b[1;36m10\u001b[0m\u001b[1;33m*\u001b[0m\u001b[0mc_1\u001b[0m\u001b[1;33m)\u001b[0m \u001b[1;33m&\u001b[0m \u001b[1;33m(\u001b[0m\u001b[0mstorage\u001b[0m\u001b[1;33m.\u001b[0m\u001b[0mdata\u001b[0m\u001b[1;33m[\u001b[0m\u001b[0mi\u001b[0m\u001b[1;33m]\u001b[0m \u001b[1;33m>=\u001b[0m \u001b[0mc_1\u001b[0m\u001b[1;33m)\u001b[0m\u001b[1;33m)\u001b[0m\u001b[1;33m.\u001b[0m\u001b[0mnonzero\u001b[0m\u001b[1;33m(\u001b[0m\u001b[1;33m)\u001b[0m\u001b[1;33m\u001b[0m\u001b[0m\n",
      "\u001b[1;31mNameError\u001b[0m: name 'storage' is not defined"
     ]
    }
   ],
   "source": [
    "radius_dict = {}\n",
    "for i in range(0, T_MAX+1):\n",
    "    if i == 0:\n",
    "        ars = np.asarray((storage.data[i] >= c_1)).nonzero()\n",
    "    else:\n",
    "        ars = np.asarray((storage.data[i] <= 10*c_1) & (storage.data[i] >= c_1)).nonzero()\n",
    "    current_radius = compute_radius(ars[0])\n",
    "    radius_dict[i+1] = current_radius\n",
    "    if i>=THERAPY_TIME[0]:\n",
    "        treatment = 'yes'\n",
    "    else:\n",
    "        treatment = 'no'\n",
    "    fig = px.scatter_3d(x=ars[0], y=ars[1], z=ars[2], range_x=[0, bound], range_y=[0, bound], range_z=[0, bound],\n",
    "                       title=f'Tumor at time: {i+1} [months], radius: {current_radius} [mm], during treatment: {treatment}')\n",
    "    fig.write_image(os.path.join('figs', 'pngs', 'radiation', f'tumor_{i}.png'))"
   ]
  },
  {
   "cell_type": "markdown",
   "metadata": {},
   "source": [
    "As with no treatment case, a 3-D visualization of tumor growth is presented. However, it should be noted that treatment was introduced after the third month. You will notice that from this point on, the tumor begins to expand more slowly."
   ]
  },
  {
   "cell_type": "code",
   "execution_count": 16,
   "metadata": {},
   "outputs": [],
   "source": [
    "df = pd.Series(radius_dict).reset_index()\n",
    "df.columns = ['time', 'radius']"
   ]
  },
  {
   "cell_type": "code",
   "execution_count": 97,
   "metadata": {},
   "outputs": [
    {
     "data": {
      "image/png": "[encoded data removed]",
      "text/plain": [
       "<Figure size 864x576 with 1 Axes>"
      ]
     },
     "metadata": {
      "needs_background": "light"
     },
     "output_type": "display_data"
    }
   ],
   "source": [
    "plt.figure(figsize=(12,8))\n",
    "plt.plot(df['time'].to_list(), df['radius'].to_list(), label='Simulation')\n",
    "# plt.plot(t, theoretical, label=r'Theoretical: $2t\\sqrt{D\\rho}\\sqrt{1-\\frac{1}{\\rho t}\\log\\left(\\frac{c_1}{N} (4\\pi Dt)^{1.5}\\right)}$')\n",
    "# plt.scatter(time_of_death, 30, s=100, c='red', label=f'Time of death = {round(time_of_death, 2)}')\n",
    "plt.hlines(30, 0, 30, colors='red', linestyles='--', label='Radius at which death occurs')\n",
    "plt.vlines(THERAPY_TIME[0], 0, 60, colors='green', linestyles='--', label='Therapy start')\n",
    "plt.legend(fontsize=14)\n",
    "plt.title(f'Tumor growth with radiation started after {THERAPY_TIME[0]} months', fontdict={'size': 22})\n",
    "plt.xlabel('Time [months]', fontdict={'size': 16})\n",
    "plt.ylabel(r'Radius [$mm$]', fontdict={'size': 16})\n",
    "plt.tick_params(axis='both', which='major', labelsize=14)\n",
    "plt.savefig(os.path.join('figs', 'pngs', 'radiation_growth.png'))\n",
    "plt.show()"
   ]
  },
  {
   "cell_type": "markdown",
   "metadata": {},
   "source": [
    "The above plot of tumor radius growth over time is a confirmation of what could be seen in the simulation. The vertical green dashed line shows when the treatment is applied. After that, the tumor grows much more gently, extending the life span significantly. "
   ]
  },
  {
   "cell_type": "code",
   "execution_count": 98,
   "metadata": {},
   "outputs": [],
   "source": [
    "!convert -delay 25 -loop 0 `ls -v figs/pngs/radiation/*.png` figs/gifs/radiation.gif"
   ]
  },
  {
   "cell_type": "code",
   "execution_count": 99,
   "metadata": {},
   "outputs": [
    {
     "data": {
      "text/html": [
       "<img src=\"figs/gifs/radiation.gif\"/>"
      ],
      "text/plain": [
       "<IPython.core.display.Image object>"
      ]
     },
     "execution_count": 99,
     "metadata": {},
     "output_type": "execute_result"
    }
   ],
   "source": [
    "Image(url=os.path.join('figs', 'gifs', 'radiation.gif'))  "
   ]
  },
  {
   "cell_type": "markdown",
   "metadata": {},
   "source": [
    "Robocza \n",
    "\n",
    "2 - https://pubmed.ncbi.nlm.nih.gov/1265229/\n",
    "3- https://pubmed.ncbi.nlm.nih.gov/6759484/\n",
    "4 - https://citeseerx.ist.psu.edu/viewdoc/download?doi=10.1.1.462.2846&rep=rep1&type=pdf\n",
    "8- https://pubmed.ncbi.nlm.nih.gov/19840807/\n",
    "18-https://pubmed.ncbi.nlm.nih.gov/17324531/\n",
    "32-https://pubmed.ncbi.nlm.nih.gov/16580506/"
   ]
  },
  {
   "cell_type": "raw",
   "metadata": {},
   "source": []
  },
  {
   "cell_type": "code",
   "execution_count": null,
   "metadata": {},
   "outputs": [],
   "source": []
  }
 ],
 "metadata": {
  "kernelspec": {
   "display_name": "Python 3",
   "language": "python",
   "name": "python3"
  },
  "language_info": {
   "codemirror_mode": {
    "name": "ipython",
    "version": 3
   },
   "file_extension": ".py",
   "mimetype": "text/x-python",
   "name": "python",
   "nbconvert_exporter": "python",
   "pygments_lexer": "ipython3",
   "version": "3.7.0"
  }
 },
 "nbformat": 4,
 "nbformat_minor": 4
}
