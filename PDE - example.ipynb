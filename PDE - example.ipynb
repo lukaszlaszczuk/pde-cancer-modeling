{
 "cells": [
  {
   "cell_type": "markdown",
   "metadata": {},
   "source": [
    "**PLAN:**\n",
    "- rozwój nowotworów bez podejmowania leczenia;\n",
    "- rozwój nowotworów przy podjęciu leczenia;\n",
    "- sprawdzenie, jak moment podjęcia leczenia wpływa na rozwój nowotworu\n",
    "- opis metod numerycznych rozwiązywania PDE zaimplementowanych w py-pde."
   ]
  },
  {
   "cell_type": "markdown",
   "metadata": {},
   "source": [
    "# Cancer modeling with partial differential equations"
   ]
  },
  {
   "cell_type": "markdown",
   "metadata": {},
   "source": [
    "## Proliferation–invasion model"
   ]
  },
  {
   "cell_type": "markdown",
   "metadata": {},
   "source": [
    "## Conservation–diffusion equation"
   ]
  },
  {
   "cell_type": "markdown",
   "metadata": {},
   "source": [
    "$$\\frac{\\partial c}{\\partial t} = D\\nabla^2 c + \\rho c\\left(1-\\frac{c}{K}\\right)$$"
   ]
  },
  {
   "cell_type": "markdown",
   "metadata": {},
   "source": [
    "This is a classical conservation–diffusion equation (Murray, 2003), in which $c(x, t)$ defines the concentration of malignant cells at location $x$ and time $t$, $D~(mm^2\\,day^{−1})$ is the random motility (dispersal) coefficient defining the net rate of migration of the tumour cells, $\\rho$ (per day) represents the net proliferation rate of the tumour cells (including mitosis and cell loss), $K$ is the limiting concentration of cells that a volume of tissue can hold (i.e., the carrying capacity of the tissue) and $\\nabla^2$ represents the dispersal operator, the Laplacian, expressed mathematically as the sum of three second derivatives in space."
   ]
  },
  {
   "cell_type": "code",
   "execution_count": 1,
   "metadata": {},
   "outputs": [],
   "source": [
    "from pde import CartesianGrid, MemoryStorage, PDEBase, ScalarField, plot_kymograph, PlotTracker, FieldCollection, UnitGrid"
   ]
  },
  {
   "cell_type": "code",
   "execution_count": 77,
   "metadata": {},
   "outputs": [],
   "source": [
    "class ConservationDiffusion(PDEBase):\n",
    "    \n",
    "    def __init__(self, D, rho, K, bc=\"natural\"):\n",
    "        self.D = D\n",
    "        self.rho = rho\n",
    "        self.K = K\n",
    "        self.bc = bc\n",
    "        \n",
    "    def evolution_rate(self, state, t=0):\n",
    "#         print('eh')\n",
    "        c = state\n",
    "        dc_dt = self.D * c.laplace(self.bc) + self.rho*c*(1-c/self.K)\n",
    "#         print(dc_dt.data)\n",
    "        return dc_dt\n",
    "    \n"
   ]
  },
  {
   "cell_type": "code",
   "execution_count": 78,
   "metadata": {},
   "outputs": [],
   "source": [
    "eq = ConservationDiffusion(D=0.2, rho=1, K=1)"
   ]
  },
  {
   "cell_type": "code",
   "execution_count": 83,
   "metadata": {},
   "outputs": [],
   "source": [
    "grid = UnitGrid([100, 100])\n",
    "c = ScalarField(grid, 0)\n",
    "c.data[16, 16] = 1"
   ]
  },
  {
   "cell_type": "code",
   "execution_count": 84,
   "metadata": {},
   "outputs": [],
   "source": [
    "tracker = PlotTracker(interval=1, plot_args={\"vmin\": 0, \"vmax\": 1})"
   ]
  },
  {
   "cell_type": "code",
   "execution_count": 85,
   "metadata": {
    "scrolled": true
   },
   "outputs": [
    {
     "data": {
      "application/vnd.jupyter.widget-view+json": {
       "model_id": "1d967e18d16d483e8808469674eedea5",
       "version_major": 2,
       "version_minor": 0
      },
      "text/plain": [
       "HBox(children=(HTML(value=''), FloatProgress(value=0.0, max=20.0), HTML(value='')))"
      ]
     },
     "metadata": {},
     "output_type": "display_data"
    },
    {
     "data": {
      "application/vnd.jupyter.widget-view+json": {
       "model_id": "361828d045784ae98aaf3be4713eb471",
       "version_major": 2,
       "version_minor": 0
      },
      "text/plain": [
       "Output()"
      ]
     },
     "metadata": {},
     "output_type": "display_data"
    },
    {
     "name": "stderr",
     "output_type": "stream",
     "text": [
      "Spent more time on handling trackers (3.0619141270000085) than on the actual simulation (1.9600074719999867)\n"
     ]
    }
   ],
   "source": [
    "sol = eq.solve(c, t_range=20, dt=1e-2, tracker=[\"progress\", tracker])"
   ]
  },
  {
   "cell_type": "code",
   "execution_count": 88,
   "metadata": {},
   "outputs": [
    {
     "data": {
      "application/vnd.jupyter.widget-view+json": {
       "model_id": "338505f8116448a0811a4a77f2c0c83d",
       "version_major": 2,
       "version_minor": 0
      },
      "text/plain": [
       "HBox(children=(HTML(value=''), FloatProgress(value=0.0, max=20.0), HTML(value='')))"
      ]
     },
     "metadata": {},
     "output_type": "display_data"
    },
    {
     "data": {
      "application/vnd.jupyter.widget-view+json": {
       "model_id": "aa683cecf7404bd196745d9bfcc94788",
       "version_major": 2,
       "version_minor": 0
      },
      "text/plain": [
       "Output()"
      ]
     },
     "metadata": {},
     "output_type": "display_data"
    },
    {
     "name": "stderr",
     "output_type": "stream",
     "text": [
      "Spent more time on handling trackers (3.058183889999995) than on the actual simulation (1.9300186119999978)\n"
     ]
    }
   ],
   "source": [
    "grid = UnitGrid([100, 100])\n",
    "c = ScalarField(grid, 0)\n",
    "c.data[16, 16] = 1\n",
    "c.data[26, 26] = 1\n",
    "c.data[36, 36] = 1\n",
    "c.data[36, 46] = 1\n",
    "tracker = PlotTracker(interval=1, plot_args={\"vmin\": 0, \"vmax\": 1})\n",
    "sol = eq.solve(c, t_range=20, dt=1e-2, tracker=[\"progress\", tracker])"
   ]
  },
  {
   "cell_type": "markdown",
   "metadata": {},
   "source": [
    "## Conservation–diffusion equation with treatment"
   ]
  },
  {
   "cell_type": "markdown",
   "metadata": {},
   "source": [
    "$$\\frac{\\partial c}{\\partial t} = D\\nabla^2 c + f(c(x,t))-k_d\\,c(x,t)$$"
   ]
  },
  {
   "cell_type": "code",
   "execution_count": 66,
   "metadata": {},
   "outputs": [],
   "source": [
    "class ConservationDiffusionTreatment(PDEBase):\n",
    "    \n",
    "    def __init__(self, D, rho, K, k_d, bc=\"natural\"):\n",
    "        self.D = D\n",
    "        self.rho = rho\n",
    "        self.K = K\n",
    "        self.bc = bc\n",
    "        self.k_d = k_d\n",
    "        \n",
    "    def evolution_rate(self, state, t=0):\n",
    "#         print('eh')\n",
    "        c = state\n",
    "        dc_dt = self.D * c.laplace(self.bc) + self.rho*c*(1-c/self.K) - self.k_d*c\n",
    "#         print(dc_dt.data)\n",
    "        return dc_dt\n",
    "    \n"
   ]
  },
  {
   "cell_type": "code",
   "execution_count": 100,
   "metadata": {},
   "outputs": [],
   "source": [
    "eq = ConservationDiffusionTreatment(D=0.2, rho=1, K=1, k_d=0.6)"
   ]
  },
  {
   "cell_type": "code",
   "execution_count": 101,
   "metadata": {},
   "outputs": [
    {
     "data": {
      "application/vnd.jupyter.widget-view+json": {
       "model_id": "9118015999e44536b29a320f1b4bd05c",
       "version_major": 2,
       "version_minor": 0
      },
      "text/plain": [
       "HBox(children=(HTML(value=''), FloatProgress(value=0.0, max=20.0), HTML(value='')))"
      ]
     },
     "metadata": {},
     "output_type": "display_data"
    },
    {
     "data": {
      "application/vnd.jupyter.widget-view+json": {
       "model_id": "49572f2cdc59423da3eda4951e8fe4d6",
       "version_major": 2,
       "version_minor": 0
      },
      "text/plain": [
       "Output()"
      ]
     },
     "metadata": {},
     "output_type": "display_data"
    },
    {
     "name": "stderr",
     "output_type": "stream",
     "text": [
      "Spent more time on handling trackers (2.873491855999987) than on the actual simulation (2.1122574750000354)\n"
     ]
    }
   ],
   "source": [
    "grid = UnitGrid([100, 100])\n",
    "c = ScalarField(grid, 0)\n",
    "c.data[16, 16] = 1\n",
    "\n",
    "tracker = PlotTracker(interval=1, plot_args={\"vmin\": 0, \"vmax\": 1})\n",
    "sol = eq.solve(c, t_range=20, dt=1e-2, tracker=[\"progress\", tracker])"
   ]
  },
  {
   "cell_type": "code",
   "execution_count": 102,
   "metadata": {},
   "outputs": [],
   "source": [
    "grid = UnitGrid([100, 100])\n",
    "c = ScalarField(grid, 0)\n",
    "c.data[16, 16] = 1\n",
    "c.data[26, 26] = 1\n",
    "c.data[36, 36] = 1\n",
    "c.data[36, 46] = 1\n",
    "c.data[38, 38] = 1"
   ]
  },
  {
   "cell_type": "code",
   "execution_count": 103,
   "metadata": {},
   "outputs": [
    {
     "data": {
      "application/vnd.jupyter.widget-view+json": {
       "model_id": "3cea101ffd4c43ab8c2bc6b90b460054",
       "version_major": 2,
       "version_minor": 0
      },
      "text/plain": [
       "HBox(children=(HTML(value=''), FloatProgress(value=0.0, max=50.0), HTML(value='')))"
      ]
     },
     "metadata": {},
     "output_type": "display_data"
    },
    {
     "data": {
      "application/vnd.jupyter.widget-view+json": {
       "model_id": "7c80b8cf53f745c5aafa2d09295190d0",
       "version_major": 2,
       "version_minor": 0
      },
      "text/plain": [
       "Output()"
      ]
     },
     "metadata": {},
     "output_type": "display_data"
    },
    {
     "name": "stderr",
     "output_type": "stream",
     "text": [
      "Spent more time on handling trackers (7.428503373000069) than on the actual simulation (2.9433275010001125)\n"
     ]
    }
   ],
   "source": [
    "tracker = PlotTracker(interval=1, plot_args={\"vmin\": 0, \"vmax\": 1})\n",
    "sol = eq.solve(c, t_range=50, dt=1e-2, tracker=[\"progress\", tracker])"
   ]
  },
  {
   "cell_type": "code",
   "execution_count": null,
   "metadata": {},
   "outputs": [],
   "source": []
  }
 ],
 "metadata": {
  "kernelspec": {
   "display_name": "data_science",
   "language": "python",
   "name": "data_science"
  },
  "language_info": {
   "codemirror_mode": {
    "name": "ipython",
    "version": 3
   },
   "file_extension": ".py",
   "mimetype": "text/x-python",
   "name": "python",
   "nbconvert_exporter": "python",
   "pygments_lexer": "ipython3",
   "version": "3.8.5"
  }
 },
 "nbformat": 4,
 "nbformat_minor": 4
}
